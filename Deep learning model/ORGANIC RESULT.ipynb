{
 "cells": [
  {
   "cell_type": "code",
   "execution_count": 1,
   "metadata": {},
   "outputs": [
    {
     "name": "stderr",
     "output_type": "stream",
     "text": [
      "C:\\ProgramData\\Anaconda3\\envs\\python3.5\\lib\\site-packages\\tensorflow\\python\\framework\\dtypes.py:526: FutureWarning: Passing (type, 1) or '1type' as a synonym of type is deprecated; in a future version of numpy, it will be understood as (type, (1,)) / '(1,)type'.\n",
      "  _np_qint8 = np.dtype([(\"qint8\", np.int8, 1)])\n",
      "C:\\ProgramData\\Anaconda3\\envs\\python3.5\\lib\\site-packages\\tensorflow\\python\\framework\\dtypes.py:527: FutureWarning: Passing (type, 1) or '1type' as a synonym of type is deprecated; in a future version of numpy, it will be understood as (type, (1,)) / '(1,)type'.\n",
      "  _np_quint8 = np.dtype([(\"quint8\", np.uint8, 1)])\n",
      "C:\\ProgramData\\Anaconda3\\envs\\python3.5\\lib\\site-packages\\tensorflow\\python\\framework\\dtypes.py:528: FutureWarning: Passing (type, 1) or '1type' as a synonym of type is deprecated; in a future version of numpy, it will be understood as (type, (1,)) / '(1,)type'.\n",
      "  _np_qint16 = np.dtype([(\"qint16\", np.int16, 1)])\n",
      "C:\\ProgramData\\Anaconda3\\envs\\python3.5\\lib\\site-packages\\tensorflow\\python\\framework\\dtypes.py:529: FutureWarning: Passing (type, 1) or '1type' as a synonym of type is deprecated; in a future version of numpy, it will be understood as (type, (1,)) / '(1,)type'.\n",
      "  _np_quint16 = np.dtype([(\"quint16\", np.uint16, 1)])\n",
      "C:\\ProgramData\\Anaconda3\\envs\\python3.5\\lib\\site-packages\\tensorflow\\python\\framework\\dtypes.py:530: FutureWarning: Passing (type, 1) or '1type' as a synonym of type is deprecated; in a future version of numpy, it will be understood as (type, (1,)) / '(1,)type'.\n",
      "  _np_qint32 = np.dtype([(\"qint32\", np.int32, 1)])\n",
      "C:\\ProgramData\\Anaconda3\\envs\\python3.5\\lib\\site-packages\\tensorflow\\python\\framework\\dtypes.py:535: FutureWarning: Passing (type, 1) or '1type' as a synonym of type is deprecated; in a future version of numpy, it will be understood as (type, (1,)) / '(1,)type'.\n",
      "  np_resource = np.dtype([(\"resource\", np.ubyte, 1)])\n",
      "RDKit WARNING: [17:33:12] Enabling RDKit 2019.09.3 jupyter extensions\n"
     ]
    },
    {
     "name": "stdout",
     "output_type": "stream",
     "text": [
      "mol_metrics: reading NP model ...\n",
      "loaded in 0.11856698989868164\n",
      "mol_metrics: reading SA model ...\n",
      "loaded in 0.486588716506958\n",
      "Starting ObjectiveGAN for textCNN\n",
      "Data points in train_file  438565\n",
      "Max data length is            128\n",
      "Max length to use is           40\n",
      "Avg length to use is      36.878856\n",
      "Num valid data points is    45516\n",
      "Size of alphabet is            43\n",
      "Using parameters:\n",
      "EXP_NAME             - textCNN     \n",
      "TRAIN_FILE           - ../Dataset/dataset_cleansed.smi\n",
      "METRICS_FILE         - mol_metrics \n",
      "OBJECTIVE            - solubility  \n",
      "D_WEIGHT             -          0.5\n",
      "CHK_PATH             - checkpoints \n",
      "G_STEPS              -            1\n",
      "SEED                 -           88\n",
      "G_PRETRAIN_STEPS     -          240\n",
      "D_PRETRAIN_STEPS     -           50\n",
      "TOTAL_BATCH          -            2\n",
      "MAX_LENGTH           -           40\n",
      "BATCH_SIZE           -           64\n",
      "LOAD_PRETRAIN        -            1\n",
      "LOAD_PREV_SESS       -            1\n",
      "EPOCH_SAVES          -           20\n",
      "rest of parameters are set as default\n",
      "\n",
      "WARNING:tensorflow:From C:\\ProgramData\\Anaconda3\\envs\\python3.5\\lib\\site-packages\\tensorflow\\python\\framework\\op_def_library.py:263: colocate_with (from tensorflow.python.framework.ops) is deprecated and will be removed in a future version.\n",
      "Instructions for updating:\n",
      "Colocations handled automatically by placer.\n",
      "WARNING:tensorflow:From C:\\Users\\charles pc\\Documents\\COVID-19\\Deep learning model\\model.py:56: multinomial (from tensorflow.python.ops.random_ops) is deprecated and will be removed in a future version.\n",
      "Instructions for updating:\n",
      "Use tf.random.categorical instead.\n",
      "WARNING:tensorflow:From C:\\Users\\charles pc\\Documents\\COVID-19\\Deep learning model\\model.py:107: to_int32 (from tensorflow.python.ops.math_ops) is deprecated and will be removed in a future version.\n",
      "Instructions for updating:\n",
      "Use tf.cast instead.\n",
      "WARNING:tensorflow:From C:\\Users\\charles pc\\Documents\\COVID-19\\Deep learning model\\text_classifier.py:94: calling dropout (from tensorflow.python.ops.nn_ops) with keep_prob is deprecated and will be removed in a future version.\n",
      "Instructions for updating:\n",
      "Please use `rate` instead of `keep_prob`. Rate should be set to `rate = 1 - keep_prob`.\n",
      "WARNING:tensorflow:From C:\\Users\\charles pc\\Documents\\COVID-19\\Deep learning model\\text_classifier.py:108: softmax_cross_entropy_with_logits (from tensorflow.python.ops.nn_ops) is deprecated and will be removed in a future version.\n",
      "Instructions for updating:\n",
      "\n",
      "Future major versions of TensorFlow will allow gradients to flow\n",
      "into the labels input on backprop by default.\n",
      "\n",
      "See `tf.nn.softmax_cross_entropy_with_logits_v2`.\n",
      "\n",
      "\t* No pre-training data found as checkpoints/textCNN_pretrain\\pretrain_ckpt.\n"
     ]
    },
    {
     "name": "stderr",
     "output_type": "stream",
     "text": [
      "\r",
      "  0%|          | 0/240 [00:00<?, ?it/s]"
     ]
    },
    {
     "name": "stdout",
     "output_type": "stream",
     "text": [
      "Start pre-training...\n",
      " gen pre-train\n",
      "\t test_loss 7.446502685546875, train_loss 1.674004077911377\n"
     ]
    },
    {
     "name": "stderr",
     "output_type": "stream",
     "text": [
      "\r",
      "  0%|          | 1/240 [00:11<46:28, 11.67s/it]"
     ]
    },
    {
     "name": "stdout",
     "output_type": "stream",
     "text": [
      "~~~ Summary Results ~~~\n",
      "Total samples   :   6400\n",
      "Unique          :   6353 (99.27%)\n",
      "Unverified      :   6255 (97.73%)\n",
      "Verified        :    145 (2.27%)\n",
      "\tmetrics...\n",
      "novelty              : 1.0000\n",
      "hard_novelty         : 1.0000\n",
      "soft_novelty         : 1.0000\n",
      "diversity            : 0.8571\n",
      "conciseness          : 0.9948\n",
      "solubility           : 0.4231\n",
      "naturalness          : 0.7628\n",
      "synthesizability     : 0.5810\n",
      "\n",
      "Example of good samples:\n",
      "CC(F)c1ccccc1\n",
      "COC(=O)c1c(=O)c1\n",
      "CCCC=CONCCCC1CN(CC(C)O)cc1\n",
      "CCc1c[nH]nc1Cl\n",
      "CNCC(C)=O\n",
      "COc1ncc1\n",
      "Nc1ccccc1O\n",
      "C=CCC1=C(C)n1\n",
      "Cc1cccc(F)c1\n",
      "OCCCCC\n",
      "\n",
      "Example of bad samples:\n",
      "Oc1cscc23)cc1CC(O\n",
      "C1=C1Cc3nccc(N)-ccc3c3cccc(N)nc3n2)ccc1C\n",
      "O=1\n",
      "N#Cn1c(O)cc1c1ccc3ncc(Cl)c2)c1\n",
      "CO=C1c1cccc2=O)c2ccc2c((=O)O)CNCC2CCN(=O\n",
      "Otc2cnccn(3)CC(O)CNC(O)CSCO2\n",
      "CCC1c1ccccc2)n1\n",
      "Cc1n(c2nnnc3c1____________________]\n",
      "Cc3[nnH](C)c3)c1\n",
      "N=C(c3ccc(Nc2ccccc1)C(=O)C(NCCN(Cc2c(OC)\n",
      "~~~~~~~~~~~~~~~~~~~~~~~\n",
      " gen pre-train\n"
     ]
    },
    {
     "name": "stderr",
     "output_type": "stream",
     "text": [
      "\r",
      "  1%|          | 2/240 [00:18<40:49, 10.29s/it]"
     ]
    },
    {
     "name": "stdout",
     "output_type": "stream",
     "text": [
      " gen pre-train\n"
     ]
    },
    {
     "name": "stderr",
     "output_type": "stream",
     "text": [
      "\r",
      "  1%|▏         | 3/240 [00:25<36:18,  9.19s/it]"
     ]
    },
    {
     "name": "stdout",
     "output_type": "stream",
     "text": [
      " gen pre-train\n"
     ]
    },
    {
     "name": "stderr",
     "output_type": "stream",
     "text": [
      "\r",
      "  2%|▏         | 4/240 [00:32<33:31,  8.52s/it]"
     ]
    },
    {
     "name": "stdout",
     "output_type": "stream",
     "text": [
      " gen pre-train\n"
     ]
    },
    {
     "name": "stderr",
     "output_type": "stream",
     "text": [
      "\r",
      "  2%|▏         | 5/240 [00:38<31:09,  7.96s/it]"
     ]
    },
    {
     "name": "stdout",
     "output_type": "stream",
     "text": [
      " gen pre-train\n"
     ]
    },
    {
     "name": "stderr",
     "output_type": "stream",
     "text": [
      "\r",
      "  2%|▎         | 6/240 [00:45<29:25,  7.55s/it]"
     ]
    },
    {
     "name": "stdout",
     "output_type": "stream",
     "text": [
      " gen pre-train\n"
     ]
    },
    {
     "name": "stderr",
     "output_type": "stream",
     "text": [
      "\r",
      "  3%|▎         | 7/240 [00:52<28:23,  7.31s/it]"
     ]
    },
    {
     "name": "stdout",
     "output_type": "stream",
     "text": [
      " gen pre-train\n"
     ]
    },
    {
     "name": "stderr",
     "output_type": "stream",
     "text": [
      "\r",
      "  3%|▎         | 8/240 [00:59<27:39,  7.15s/it]"
     ]
    },
    {
     "name": "stdout",
     "output_type": "stream",
     "text": [
      " gen pre-train\n"
     ]
    },
    {
     "name": "stderr",
     "output_type": "stream",
     "text": [
      "\r",
      "  4%|▍         | 9/240 [01:06<27:25,  7.12s/it]"
     ]
    },
    {
     "name": "stdout",
     "output_type": "stream",
     "text": [
      " gen pre-train\n"
     ]
    },
    {
     "name": "stderr",
     "output_type": "stream",
     "text": [
      "\r",
      "  4%|▍         | 10/240 [01:13<27:07,  7.07s/it]"
     ]
    },
    {
     "name": "stdout",
     "output_type": "stream",
     "text": [
      " gen pre-train\n",
      "\t test_loss 6.655911445617676, train_loss 0.8818870782852173\n"
     ]
    },
    {
     "name": "stderr",
     "output_type": "stream",
     "text": [
      "\r",
      "  5%|▍         | 11/240 [01:32<41:08, 10.78s/it]"
     ]
    },
    {
     "name": "stdout",
     "output_type": "stream",
     "text": [
      "~~~ Summary Results ~~~\n",
      "Total samples   :   6400\n",
      "Unique          :   6400 (100.00%)\n",
      "Unverified      :   5877 (91.83%)\n",
      "Verified        :    523 (8.17%)\n",
      "\tmetrics...\n",
      "novelty              : 1.0000\n",
      "hard_novelty         : 1.0000\n",
      "soft_novelty         : 1.0000\n",
      "diversity            : 0.5000\n",
      "conciseness          : 0.9896\n",
      "solubility           : 0.6754\n",
      "naturalness          : 0.6181\n",
      "synthesizability     : 0.5311\n",
      "\n",
      "Example of good samples:\n",
      "NCC(O)C1CS(=O)(=O)Nc2ccccc21\n",
      "Cc1ccc(Nc2nc(-c3ccc(C(F)(F)F)cc3)ccn2)N1\n",
      "CCCC(CC(=O)OC)CCCCCCCCCCCCCCCCCNc1ccccc1\n",
      "CCOC(=O)C(C)N1CCN(c2ccc(Br)cc2)CC1\n",
      "C(C)Cc1c(c2ncccn2CNC2CCNC(=O)O)c21\n",
      "OC(Cc1ccccc1)CCNC(=O)NCc1cccc(C)c1OC\n",
      "COC(O)CN1CCN1CCN(C(=O)NCC)c1ccccn1\n",
      "O=C1NC(P(=O)(O)OCCC(=O)O)Cc2ccc(O)cc21\n",
      "CC(Nc1ccccc1)C1CCN(Cc2ccccc2)c2ccccc21\n",
      "COc1ccc2c(c1)CCc1cccc(OCCN2)c1-c1ccccc1\n",
      "\n",
      "Example of bad samples:\n",
      "N#Cc1cccc(C2(N)C(C)(C)(Cc2ccccn2)CC2)c1\n",
      "CC1C(NC2CC3CNC3CCC3=CNCC3)CC12)NCN(c1ccc\n",
      "Cc1cc(Nc2ccc(Cl)cc2)cc(C(=O)N3CC=C2CCC2)\n",
      "Cn1cnc2c1nc2ccc(NOc3cccc(O)c3)c2)c1=O\n",
      "Cn1cc2cncc3csc12c1cnccc1-c1ccccc1\n",
      "Cc1cccc(OCC(Cc2ccc(C(F)(F)F)cc2)C(=O)OCC\n",
      "Nc1cc(N2CCCOC2=NSC(C)(C)c3cc(-c4cccnc4)c\n",
      "O=C1c2ccc(F)cc2C(=O)OC(=O)NC(=NC)CC3CCC1\n",
      "CIc1ccc2ccc(-c3cccs3)c(N)nc12)C1CCC2\n",
      "CCOCCCc1ccc2c(cc1OC)COC(N)(C)NCC2\n",
      "~~~~~~~~~~~~~~~~~~~~~~~\n",
      " gen pre-train\n"
     ]
    },
    {
     "name": "stderr",
     "output_type": "stream",
     "text": [
      "\r",
      "  5%|▌         | 12/240 [01:39<36:35,  9.63s/it]"
     ]
    },
    {
     "name": "stdout",
     "output_type": "stream",
     "text": [
      " gen pre-train\n"
     ]
    },
    {
     "name": "stderr",
     "output_type": "stream",
     "text": [
      "\r",
      "  5%|▌         | 13/240 [01:46<33:35,  8.88s/it]"
     ]
    },
    {
     "name": "stdout",
     "output_type": "stream",
     "text": [
      " gen pre-train\n"
     ]
    },
    {
     "name": "stderr",
     "output_type": "stream",
     "text": [
      "\r",
      "  6%|▌         | 14/240 [01:54<32:17,  8.57s/it]"
     ]
    },
    {
     "name": "stdout",
     "output_type": "stream",
     "text": [
      " gen pre-train\n"
     ]
    },
    {
     "name": "stderr",
     "output_type": "stream",
     "text": [
      "\r",
      "  6%|▋         | 15/240 [02:01<30:57,  8.26s/it]"
     ]
    },
    {
     "name": "stdout",
     "output_type": "stream",
     "text": [
      " gen pre-train\n"
     ]
    },
    {
     "name": "stderr",
     "output_type": "stream",
     "text": [
      "\r",
      "  7%|▋         | 16/240 [02:09<30:09,  8.08s/it]"
     ]
    },
    {
     "name": "stdout",
     "output_type": "stream",
     "text": [
      " gen pre-train\n"
     ]
    },
    {
     "name": "stderr",
     "output_type": "stream",
     "text": [
      "\r",
      "  7%|▋         | 17/240 [02:17<29:36,  7.97s/it]"
     ]
    },
    {
     "name": "stdout",
     "output_type": "stream",
     "text": [
      " gen pre-train\n"
     ]
    },
    {
     "name": "stderr",
     "output_type": "stream",
     "text": [
      "\r",
      "  8%|▊         | 18/240 [02:24<29:03,  7.85s/it]"
     ]
    },
    {
     "name": "stdout",
     "output_type": "stream",
     "text": [
      " gen pre-train\n"
     ]
    },
    {
     "name": "stderr",
     "output_type": "stream",
     "text": [
      "\r",
      "  8%|▊         | 19/240 [02:32<28:32,  7.75s/it]"
     ]
    },
    {
     "name": "stdout",
     "output_type": "stream",
     "text": [
      " gen pre-train\n"
     ]
    },
    {
     "name": "stderr",
     "output_type": "stream",
     "text": [
      "\r",
      "  8%|▊         | 20/240 [02:40<28:12,  7.69s/it]"
     ]
    },
    {
     "name": "stdout",
     "output_type": "stream",
     "text": [
      " gen pre-train\n"
     ]
    },
    {
     "name": "stderr",
     "output_type": "stream",
     "text": [
      "\r",
      "  9%|▉         | 21/240 [02:47<27:55,  7.65s/it]"
     ]
    },
    {
     "name": "stdout",
     "output_type": "stream",
     "text": [
      " gen pre-train\n"
     ]
    },
    {
     "name": "stderr",
     "output_type": "stream",
     "text": [
      "\r",
      "  9%|▉         | 22/240 [02:55<27:37,  7.60s/it]"
     ]
    },
    {
     "name": "stdout",
     "output_type": "stream",
     "text": [
      " gen pre-train\n"
     ]
    },
    {
     "name": "stderr",
     "output_type": "stream",
     "text": [
      "\r",
      " 10%|▉         | 23/240 [03:02<27:25,  7.58s/it]"
     ]
    },
    {
     "name": "stdout",
     "output_type": "stream",
     "text": [
      " gen pre-train\n"
     ]
    },
    {
     "name": "stderr",
     "output_type": "stream",
     "text": [
      "\r",
      " 10%|█         | 24/240 [03:10<27:23,  7.61s/it]"
     ]
    },
    {
     "name": "stdout",
     "output_type": "stream",
     "text": [
      " gen pre-train\n"
     ]
    },
    {
     "name": "stderr",
     "output_type": "stream",
     "text": [
      "\r",
      " 10%|█         | 25/240 [03:18<27:30,  7.68s/it]"
     ]
    },
    {
     "name": "stdout",
     "output_type": "stream",
     "text": [
      " gen pre-train\n"
     ]
    },
    {
     "name": "stderr",
     "output_type": "stream",
     "text": [
      "\r",
      " 11%|█         | 26/240 [03:25<27:24,  7.68s/it]"
     ]
    },
    {
     "name": "stdout",
     "output_type": "stream",
     "text": [
      " gen pre-train\n"
     ]
    },
    {
     "name": "stderr",
     "output_type": "stream",
     "text": [
      "\r",
      " 11%|█▏        | 27/240 [03:33<27:18,  7.69s/it]"
     ]
    },
    {
     "name": "stdout",
     "output_type": "stream",
     "text": [
      " gen pre-train\n"
     ]
    },
    {
     "name": "stderr",
     "output_type": "stream",
     "text": [
      "\r",
      " 12%|█▏        | 28/240 [03:40<26:56,  7.62s/it]"
     ]
    },
    {
     "name": "stdout",
     "output_type": "stream",
     "text": [
      " gen pre-train\n"
     ]
    },
    {
     "name": "stderr",
     "output_type": "stream",
     "text": [
      "\r",
      " 12%|█▏        | 29/240 [03:48<26:56,  7.66s/it]"
     ]
    },
    {
     "name": "stdout",
     "output_type": "stream",
     "text": [
      " gen pre-train\n"
     ]
    },
    {
     "name": "stderr",
     "output_type": "stream",
     "text": [
      "\r",
      " 12%|█▎        | 30/240 [03:56<26:39,  7.62s/it]"
     ]
    },
    {
     "name": "stdout",
     "output_type": "stream",
     "text": [
      " gen pre-train\n"
     ]
    },
    {
     "name": "stderr",
     "output_type": "stream",
     "text": [
      "\r",
      " 13%|█▎        | 31/240 [04:03<26:28,  7.60s/it]"
     ]
    },
    {
     "name": "stdout",
     "output_type": "stream",
     "text": [
      " gen pre-train\n"
     ]
    },
    {
     "name": "stderr",
     "output_type": "stream",
     "text": [
      "\r",
      " 13%|█▎        | 32/240 [04:11<26:17,  7.58s/it]"
     ]
    },
    {
     "name": "stdout",
     "output_type": "stream",
     "text": [
      " gen pre-train\n"
     ]
    },
    {
     "name": "stderr",
     "output_type": "stream",
     "text": [
      "\r",
      " 14%|█▍        | 33/240 [04:18<26:12,  7.60s/it]"
     ]
    },
    {
     "name": "stdout",
     "output_type": "stream",
     "text": [
      " gen pre-train\n"
     ]
    },
    {
     "name": "stderr",
     "output_type": "stream",
     "text": [
      "\r",
      " 14%|█▍        | 34/240 [04:26<26:18,  7.67s/it]"
     ]
    },
    {
     "name": "stdout",
     "output_type": "stream",
     "text": [
      " gen pre-train\n"
     ]
    },
    {
     "name": "stderr",
     "output_type": "stream",
     "text": [
      "\r",
      " 15%|█▍        | 35/240 [04:34<26:11,  7.67s/it]"
     ]
    },
    {
     "name": "stdout",
     "output_type": "stream",
     "text": [
      " gen pre-train\n"
     ]
    },
    {
     "name": "stderr",
     "output_type": "stream",
     "text": [
      "\r",
      " 15%|█▌        | 36/240 [04:42<26:05,  7.67s/it]"
     ]
    },
    {
     "name": "stdout",
     "output_type": "stream",
     "text": [
      " gen pre-train\n"
     ]
    },
    {
     "name": "stderr",
     "output_type": "stream",
     "text": [
      "\r",
      " 15%|█▌        | 37/240 [04:49<25:51,  7.64s/it]"
     ]
    },
    {
     "name": "stdout",
     "output_type": "stream",
     "text": [
      " gen pre-train\n"
     ]
    },
    {
     "name": "stderr",
     "output_type": "stream",
     "text": [
      "\r",
      " 16%|█▌        | 38/240 [04:57<25:33,  7.59s/it]"
     ]
    },
    {
     "name": "stdout",
     "output_type": "stream",
     "text": [
      " gen pre-train\n"
     ]
    },
    {
     "name": "stderr",
     "output_type": "stream",
     "text": [
      "\r",
      " 16%|█▋        | 39/240 [05:03<24:37,  7.35s/it]"
     ]
    },
    {
     "name": "stdout",
     "output_type": "stream",
     "text": [
      " gen pre-train\n"
     ]
    },
    {
     "name": "stderr",
     "output_type": "stream",
     "text": [
      "\r",
      " 17%|█▋        | 40/240 [05:10<23:44,  7.12s/it]"
     ]
    },
    {
     "name": "stdout",
     "output_type": "stream",
     "text": [
      " gen pre-train\n",
      "\t test_loss 6.594008922576904, train_loss 0.813564658164978\n"
     ]
    },
    {
     "name": "stderr",
     "output_type": "stream",
     "text": [
      "\r",
      " 17%|█▋        | 41/240 [05:40<46:30, 14.02s/it]"
     ]
    },
    {
     "name": "stdout",
     "output_type": "stream",
     "text": [
      "~~~ Summary Results ~~~\n",
      "Total samples   :   6400\n",
      "Unique          :   6400 (100.00%)\n",
      "Unverified      :   5373 (83.95%)\n",
      "Verified        :   1027 (16.05%)\n",
      "\tmetrics...\n",
      "novelty              : 0.9990\n",
      "hard_novelty         : 0.9990\n",
      "soft_novelty         : 0.9993\n",
      "diversity            : 0.4950\n",
      "conciseness          : 0.9882\n",
      "solubility           : 0.6855\n",
      "naturalness          : 0.5903\n",
      "synthesizability     : 0.5934\n",
      "\n",
      "Example of good samples:\n",
      "Nc1c(Cl)cccc1Nc1ccc2c(c1)OC1CCC1CCC2\n",
      "CN1CCC(Oc2ccc(CNCc3ccccc3)CC2)cc1OCCO\n",
      "CC1=Cc2ccc(OCCCN3C(CCC)C3)nc2cc1Cl\n",
      "CCN1CCN(Cc2ccc3c(c(O)C3)cncc2Cl)cc1\n",
      "c1ccc2c(c1O)C(=O)c1cnc(CNc3ccccc3)nc12\n",
      "CCCC=CCC1CC2CN(C)CCC(C)NC(n3ccccn3C2)c1\n",
      "COCC1CN=C(c2cccc(NC(F)(F)F)n2)CC1\n",
      "CCNCC1CCCCC1Oc1ccc(C(=O)NN2CCN2)nc1C\n",
      "C=CCn1cc(-c2nc(N)c(=O)[nH]c2S)NCCCC1\n",
      "O=C(NC1=Cc3ccccc3C2CN(CCCCC)C1)N2\n",
      "\n",
      "Example of bad samples:\n",
      "CCC(=O)C1(c2n[nH]c3c(C)cccc23)CO2)c1Cl)C\n",
      "C1Cc2c(=O)oc(NCc3cnc(=O)=O)cnc3cc2n1\n",
      "Cc1nc(=O)nn2cc1c1nc3csc3c(CO)ccc(N)c12\n",
      "CCc1cc(N(Cc2ccc(N)cc2)NS(=O)(=O)O)nc1N\n",
      "Fc1ccc(Nc2ccc(C3CN3CC)c3ccccc3n2)cc1\n",
      "O=C(NCN1Cc2cccc(C)c2c2nccnc2c1\n",
      "Cn1ccc(C(N)=O)s12)c1ccc(-c2ccccc2)cc1\n",
      "CN1C=C(CC(=O)O)C(Cc2nc3nc(Cl)ccc3N)C1=O\n",
      "O=C(c1ccc(F)cc1)(n1ccc2c(c1)CCCC32\n",
      "COc1cccc(NC(=O)OCC1CCc1cccc(N(P(=O)F)C2)\n",
      "~~~~~~~~~~~~~~~~~~~~~~~\n",
      " gen pre-train\n"
     ]
    },
    {
     "name": "stderr",
     "output_type": "stream",
     "text": [
      "\r",
      " 18%|█▊        | 42/240 [05:47<39:08, 11.86s/it]"
     ]
    },
    {
     "name": "stdout",
     "output_type": "stream",
     "text": [
      " gen pre-train\n"
     ]
    },
    {
     "name": "stderr",
     "output_type": "stream",
     "text": [
      "\r",
      " 18%|█▊        | 43/240 [05:54<33:53, 10.32s/it]"
     ]
    },
    {
     "name": "stdout",
     "output_type": "stream",
     "text": [
      " gen pre-train\n"
     ]
    },
    {
     "name": "stderr",
     "output_type": "stream",
     "text": [
      "\r",
      " 18%|█▊        | 44/240 [06:01<30:18,  9.28s/it]"
     ]
    },
    {
     "name": "stdout",
     "output_type": "stream",
     "text": [
      " gen pre-train\n"
     ]
    },
    {
     "name": "stderr",
     "output_type": "stream",
     "text": [
      "\r",
      " 19%|█▉        | 45/240 [06:07<27:44,  8.53s/it]"
     ]
    },
    {
     "name": "stdout",
     "output_type": "stream",
     "text": [
      " gen pre-train\n"
     ]
    },
    {
     "name": "stderr",
     "output_type": "stream",
     "text": [
      "\r",
      " 19%|█▉        | 46/240 [06:14<25:43,  7.96s/it]"
     ]
    },
    {
     "name": "stdout",
     "output_type": "stream",
     "text": [
      " gen pre-train\n"
     ]
    },
    {
     "name": "stderr",
     "output_type": "stream",
     "text": [
      "\r",
      " 20%|█▉        | 47/240 [06:21<24:16,  7.55s/it]"
     ]
    },
    {
     "name": "stdout",
     "output_type": "stream",
     "text": [
      " gen pre-train\n"
     ]
    },
    {
     "name": "stderr",
     "output_type": "stream",
     "text": [
      "\r",
      " 20%|██        | 48/240 [06:28<23:59,  7.50s/it]"
     ]
    },
    {
     "name": "stdout",
     "output_type": "stream",
     "text": [
      " gen pre-train\n"
     ]
    },
    {
     "name": "stderr",
     "output_type": "stream",
     "text": [
      "\r",
      " 20%|██        | 49/240 [06:37<25:02,  7.87s/it]"
     ]
    },
    {
     "name": "stdout",
     "output_type": "stream",
     "text": [
      " gen pre-train\n"
     ]
    },
    {
     "name": "stderr",
     "output_type": "stream",
     "text": [
      "\r",
      " 21%|██        | 50/240 [06:45<24:52,  7.85s/it]"
     ]
    },
    {
     "name": "stdout",
     "output_type": "stream",
     "text": [
      " gen pre-train\n"
     ]
    },
    {
     "name": "stderr",
     "output_type": "stream",
     "text": [
      "\r",
      " 21%|██▏       | 51/240 [06:53<24:53,  7.90s/it]"
     ]
    },
    {
     "name": "stdout",
     "output_type": "stream",
     "text": [
      " gen pre-train\n"
     ]
    },
    {
     "name": "stderr",
     "output_type": "stream",
     "text": [
      "\r",
      " 22%|██▏       | 52/240 [07:00<24:33,  7.84s/it]"
     ]
    },
    {
     "name": "stdout",
     "output_type": "stream",
     "text": [
      " gen pre-train\n"
     ]
    },
    {
     "name": "stderr",
     "output_type": "stream",
     "text": [
      "\r",
      " 22%|██▏       | 53/240 [07:08<24:03,  7.72s/it]"
     ]
    },
    {
     "name": "stdout",
     "output_type": "stream",
     "text": [
      " gen pre-train\n"
     ]
    },
    {
     "name": "stderr",
     "output_type": "stream",
     "text": [
      "\r",
      " 22%|██▎       | 54/240 [07:15<23:26,  7.56s/it]"
     ]
    },
    {
     "name": "stdout",
     "output_type": "stream",
     "text": [
      " gen pre-train\n"
     ]
    },
    {
     "name": "stderr",
     "output_type": "stream",
     "text": [
      "\r",
      " 23%|██▎       | 55/240 [07:21<22:21,  7.25s/it]"
     ]
    },
    {
     "name": "stdout",
     "output_type": "stream",
     "text": [
      " gen pre-train\n"
     ]
    },
    {
     "name": "stderr",
     "output_type": "stream",
     "text": [
      "\r",
      " 23%|██▎       | 56/240 [07:28<21:49,  7.12s/it]"
     ]
    },
    {
     "name": "stdout",
     "output_type": "stream",
     "text": [
      " gen pre-train\n"
     ]
    },
    {
     "name": "stderr",
     "output_type": "stream",
     "text": [
      "\r",
      " 24%|██▍       | 57/240 [07:35<21:20,  7.00s/it]"
     ]
    },
    {
     "name": "stdout",
     "output_type": "stream",
     "text": [
      " gen pre-train\n"
     ]
    },
    {
     "name": "stderr",
     "output_type": "stream",
     "text": [
      "\r",
      " 24%|██▍       | 58/240 [07:42<21:16,  7.01s/it]"
     ]
    },
    {
     "name": "stdout",
     "output_type": "stream",
     "text": [
      " gen pre-train\n"
     ]
    },
    {
     "name": "stderr",
     "output_type": "stream",
     "text": [
      "\r",
      " 25%|██▍       | 59/240 [07:49<20:59,  6.96s/it]"
     ]
    },
    {
     "name": "stdout",
     "output_type": "stream",
     "text": [
      " gen pre-train\n"
     ]
    },
    {
     "name": "stderr",
     "output_type": "stream",
     "text": [
      "\r",
      " 25%|██▌       | 60/240 [07:56<20:43,  6.91s/it]"
     ]
    },
    {
     "name": "stdout",
     "output_type": "stream",
     "text": [
      " gen pre-train\n"
     ]
    },
    {
     "name": "stderr",
     "output_type": "stream",
     "text": [
      "\r",
      " 25%|██▌       | 61/240 [08:02<20:29,  6.87s/it]"
     ]
    },
    {
     "name": "stdout",
     "output_type": "stream",
     "text": [
      " gen pre-train\n"
     ]
    },
    {
     "name": "stderr",
     "output_type": "stream",
     "text": [
      "\r",
      " 26%|██▌       | 62/240 [08:09<20:16,  6.83s/it]"
     ]
    },
    {
     "name": "stdout",
     "output_type": "stream",
     "text": [
      " gen pre-train\n"
     ]
    },
    {
     "name": "stderr",
     "output_type": "stream",
     "text": [
      "\r",
      " 26%|██▋       | 63/240 [08:16<20:06,  6.82s/it]"
     ]
    },
    {
     "name": "stdout",
     "output_type": "stream",
     "text": [
      " gen pre-train\n"
     ]
    },
    {
     "name": "stderr",
     "output_type": "stream",
     "text": [
      "\r",
      " 27%|██▋       | 64/240 [08:23<19:50,  6.76s/it]"
     ]
    },
    {
     "name": "stdout",
     "output_type": "stream",
     "text": [
      " gen pre-train\n"
     ]
    },
    {
     "name": "stderr",
     "output_type": "stream",
     "text": [
      "\r",
      " 27%|██▋       | 65/240 [08:29<19:33,  6.71s/it]"
     ]
    },
    {
     "name": "stdout",
     "output_type": "stream",
     "text": [
      " gen pre-train\n"
     ]
    },
    {
     "name": "stderr",
     "output_type": "stream",
     "text": [
      "\r",
      " 28%|██▊       | 66/240 [08:36<19:35,  6.76s/it]"
     ]
    },
    {
     "name": "stdout",
     "output_type": "stream",
     "text": [
      " gen pre-train\n"
     ]
    },
    {
     "name": "stderr",
     "output_type": "stream",
     "text": [
      "\r",
      " 28%|██▊       | 67/240 [08:43<19:22,  6.72s/it]"
     ]
    },
    {
     "name": "stdout",
     "output_type": "stream",
     "text": [
      " gen pre-train\n"
     ]
    },
    {
     "name": "stderr",
     "output_type": "stream",
     "text": [
      "\r",
      " 28%|██▊       | 68/240 [08:50<19:38,  6.85s/it]"
     ]
    },
    {
     "name": "stdout",
     "output_type": "stream",
     "text": [
      " gen pre-train\n"
     ]
    },
    {
     "name": "stderr",
     "output_type": "stream",
     "text": [
      "\r",
      " 29%|██▉       | 69/240 [08:56<19:23,  6.80s/it]"
     ]
    },
    {
     "name": "stdout",
     "output_type": "stream",
     "text": [
      " gen pre-train\n"
     ]
    },
    {
     "name": "stderr",
     "output_type": "stream",
     "text": [
      "\r",
      " 29%|██▉       | 70/240 [09:03<19:20,  6.83s/it]"
     ]
    },
    {
     "name": "stdout",
     "output_type": "stream",
     "text": [
      " gen pre-train\n"
     ]
    },
    {
     "name": "stderr",
     "output_type": "stream",
     "text": [
      "\r",
      " 30%|██▉       | 71/240 [09:10<19:03,  6.77s/it]"
     ]
    },
    {
     "name": "stdout",
     "output_type": "stream",
     "text": [
      " gen pre-train\n"
     ]
    },
    {
     "name": "stderr",
     "output_type": "stream",
     "text": [
      "\r",
      " 30%|███       | 72/240 [09:17<18:58,  6.77s/it]"
     ]
    },
    {
     "name": "stdout",
     "output_type": "stream",
     "text": [
      " gen pre-train\n"
     ]
    },
    {
     "name": "stderr",
     "output_type": "stream",
     "text": [
      "\r",
      " 30%|███       | 73/240 [09:24<18:50,  6.77s/it]"
     ]
    },
    {
     "name": "stdout",
     "output_type": "stream",
     "text": [
      " gen pre-train\n"
     ]
    },
    {
     "name": "stderr",
     "output_type": "stream",
     "text": [
      "\r",
      " 31%|███       | 74/240 [09:30<18:34,  6.71s/it]"
     ]
    },
    {
     "name": "stdout",
     "output_type": "stream",
     "text": [
      " gen pre-train\n"
     ]
    },
    {
     "name": "stderr",
     "output_type": "stream",
     "text": [
      "\r",
      " 31%|███▏      | 75/240 [09:37<18:26,  6.71s/it]"
     ]
    },
    {
     "name": "stdout",
     "output_type": "stream",
     "text": [
      " gen pre-train\n"
     ]
    },
    {
     "name": "stderr",
     "output_type": "stream",
     "text": [
      "\r",
      " 32%|███▏      | 76/240 [09:44<18:27,  6.75s/it]"
     ]
    },
    {
     "name": "stdout",
     "output_type": "stream",
     "text": [
      " gen pre-train\n"
     ]
    },
    {
     "name": "stderr",
     "output_type": "stream",
     "text": [
      "\r",
      " 32%|███▏      | 77/240 [09:51<18:26,  6.79s/it]"
     ]
    },
    {
     "name": "stdout",
     "output_type": "stream",
     "text": [
      " gen pre-train\n"
     ]
    },
    {
     "name": "stderr",
     "output_type": "stream",
     "text": [
      "\r",
      " 32%|███▎      | 78/240 [09:57<18:26,  6.83s/it]"
     ]
    },
    {
     "name": "stdout",
     "output_type": "stream",
     "text": [
      " gen pre-train\n"
     ]
    },
    {
     "name": "stderr",
     "output_type": "stream",
     "text": [
      "\r",
      " 33%|███▎      | 79/240 [10:04<18:13,  6.79s/it]"
     ]
    },
    {
     "name": "stdout",
     "output_type": "stream",
     "text": [
      " gen pre-train\n"
     ]
    },
    {
     "name": "stderr",
     "output_type": "stream",
     "text": [
      "\r",
      " 33%|███▎      | 80/240 [10:11<18:17,  6.86s/it]"
     ]
    },
    {
     "name": "stdout",
     "output_type": "stream",
     "text": [
      " gen pre-train\n",
      "\t test_loss 6.661922454833984, train_loss 0.7933767437934875\n"
     ]
    },
    {
     "name": "stderr",
     "output_type": "stream",
     "text": [
      "\r",
      " 34%|███▍      | 81/240 [10:50<43:56, 16.58s/it]"
     ]
    },
    {
     "name": "stdout",
     "output_type": "stream",
     "text": [
      "~~~ Summary Results ~~~\n",
      "Total samples   :   6400\n",
      "Unique          :   6400 (100.00%)\n",
      "Unverified      :   4883 (76.30%)\n",
      "Verified        :   1517 (23.70%)\n",
      "\tmetrics...\n",
      "novelty              : 1.0000\n",
      "hard_novelty         : 1.0000\n",
      "soft_novelty         : 1.0000\n",
      "diversity            : 0.4879\n",
      "conciseness          : 0.9907\n",
      "solubility           : 0.6674\n",
      "naturalness          : 0.5975\n",
      "synthesizability     : 0.5886\n",
      "\n",
      "Example of good samples:\n",
      "CCOc1ccc(OCCCC(=O)NCc2cccc(O)c2)nc1\n",
      "COc1ccc(C2=C(N)C3CCCC3(C)C2)[nH]c1=O\n",
      "CCc1cc(N)c(NCc2ccc(Cl)c(Cl)c2)c2sc1C=CC2\n",
      "CCN1CCC(OC)C(c2cccc(CCc3ccccc3)c2C)c1\n",
      "CC(=O)N1CCN(Cc2cccc(C=O)c2)CN1CCCCN\n",
      "CCCCCCCCCn1c(C)ccc1C(=O)C=Cc1ccccc1I\n",
      "Cc1ccc2cc(C(=O)N(C)C)c(N)cc2c1C#N\n",
      "CCc1c(O)c(C)c(OC(C)N)cc1-c1ccc(Cl)cc1\n",
      "NS(=O)(=O)c1ccc2nc(-c3ccccc3)cc2s1\n",
      "O=C(O)c1ccc(OCc2ccccc2-c2ccccc2)nc1\n",
      "\n",
      "Example of bad samples:\n",
      "O=C1NC(=O)N1c2ccccc2C1(Cc1ccccc1)c1cc(Cl\n",
      "N=C(CN1c1cc2ccccc2nn1C1CCCC1\n",
      "CN1CCc2c(ccc2C(=O)NCCNc3ccccc3)cc2s1\n",
      "O=c1cccn2c(-c3ccc(OC)cc3O)c3c1CN=C(=O)N3\n",
      "N#Cc1ccc(COc2nc(=O)n(C)c2ccc(I)c2)cc1\n",
      "CSC(=O)Nc1nccn2c(Cc3c(cccnc34)n2)cc1\n",
      "CN=Cc1ccc(-c2ccc(C(C)c3ccccc3)cc2)n1\n",
      "CSCN1CC2CN(C(=O)NC3c3ccc(C(C)C)cc3)CCCCC\n",
      "Cc1ccc(-c2c(nc3cccc(Cl)cn3)c2)cc1\n",
      "Cc1c(OC)c2c(c(CCCO)nc(O)c3ccccc32)cc1)CC\n",
      "~~~~~~~~~~~~~~~~~~~~~~~\n",
      " gen pre-train\n"
     ]
    },
    {
     "name": "stderr",
     "output_type": "stream",
     "text": [
      "\r",
      " 34%|███▍      | 82/240 [10:57<36:07, 13.72s/it]"
     ]
    },
    {
     "name": "stdout",
     "output_type": "stream",
     "text": [
      " gen pre-train\n"
     ]
    },
    {
     "name": "stderr",
     "output_type": "stream",
     "text": [
      "\r",
      " 35%|███▍      | 83/240 [11:04<30:26, 11.63s/it]"
     ]
    },
    {
     "name": "stdout",
     "output_type": "stream",
     "text": [
      " gen pre-train\n"
     ]
    },
    {
     "name": "stderr",
     "output_type": "stream",
     "text": [
      "\r",
      " 35%|███▌      | 84/240 [11:11<26:30, 10.20s/it]"
     ]
    },
    {
     "name": "stdout",
     "output_type": "stream",
     "text": [
      " gen pre-train\n"
     ]
    },
    {
     "name": "stderr",
     "output_type": "stream",
     "text": [
      "\r",
      " 35%|███▌      | 85/240 [11:18<23:49,  9.22s/it]"
     ]
    },
    {
     "name": "stdout",
     "output_type": "stream",
     "text": [
      " gen pre-train\n"
     ]
    },
    {
     "name": "stderr",
     "output_type": "stream",
     "text": [
      "\r",
      " 36%|███▌      | 86/240 [11:25<21:41,  8.45s/it]"
     ]
    },
    {
     "name": "stdout",
     "output_type": "stream",
     "text": [
      " gen pre-train\n"
     ]
    },
    {
     "name": "stderr",
     "output_type": "stream",
     "text": [
      "\r",
      " 36%|███▋      | 87/240 [11:32<20:18,  7.97s/it]"
     ]
    },
    {
     "name": "stdout",
     "output_type": "stream",
     "text": [
      " gen pre-train\n"
     ]
    },
    {
     "name": "stderr",
     "output_type": "stream",
     "text": [
      "\r",
      " 37%|███▋      | 88/240 [11:38<19:06,  7.54s/it]"
     ]
    },
    {
     "name": "stdout",
     "output_type": "stream",
     "text": [
      " gen pre-train\n"
     ]
    },
    {
     "name": "stderr",
     "output_type": "stream",
     "text": [
      "\r",
      " 37%|███▋      | 89/240 [11:45<18:19,  7.28s/it]"
     ]
    },
    {
     "name": "stdout",
     "output_type": "stream",
     "text": [
      " gen pre-train\n"
     ]
    },
    {
     "name": "stderr",
     "output_type": "stream",
     "text": [
      "\r",
      " 38%|███▊      | 90/240 [11:52<17:48,  7.12s/it]"
     ]
    },
    {
     "name": "stdout",
     "output_type": "stream",
     "text": [
      " gen pre-train\n"
     ]
    },
    {
     "name": "stderr",
     "output_type": "stream",
     "text": [
      "\r",
      " 38%|███▊      | 91/240 [11:58<17:23,  7.00s/it]"
     ]
    },
    {
     "name": "stdout",
     "output_type": "stream",
     "text": [
      " gen pre-train\n"
     ]
    },
    {
     "name": "stderr",
     "output_type": "stream",
     "text": [
      "\r",
      " 38%|███▊      | 92/240 [12:05<17:17,  7.01s/it]"
     ]
    },
    {
     "name": "stdout",
     "output_type": "stream",
     "text": [
      " gen pre-train\n"
     ]
    },
    {
     "name": "stderr",
     "output_type": "stream",
     "text": [
      "\r",
      " 39%|███▉      | 93/240 [12:12<16:59,  6.94s/it]"
     ]
    },
    {
     "name": "stdout",
     "output_type": "stream",
     "text": [
      " gen pre-train\n"
     ]
    },
    {
     "name": "stderr",
     "output_type": "stream",
     "text": [
      "\r",
      " 39%|███▉      | 94/240 [12:19<16:44,  6.88s/it]"
     ]
    },
    {
     "name": "stdout",
     "output_type": "stream",
     "text": [
      " gen pre-train\n"
     ]
    },
    {
     "name": "stderr",
     "output_type": "stream",
     "text": [
      "\r",
      " 40%|███▉      | 95/240 [12:25<16:25,  6.80s/it]"
     ]
    },
    {
     "name": "stdout",
     "output_type": "stream",
     "text": [
      " gen pre-train\n"
     ]
    },
    {
     "name": "stderr",
     "output_type": "stream",
     "text": [
      "\r",
      " 40%|████      | 96/240 [12:32<16:16,  6.78s/it]"
     ]
    },
    {
     "name": "stdout",
     "output_type": "stream",
     "text": [
      " gen pre-train\n"
     ]
    },
    {
     "name": "stderr",
     "output_type": "stream",
     "text": [
      "\r",
      " 40%|████      | 97/240 [12:39<16:01,  6.72s/it]"
     ]
    },
    {
     "name": "stdout",
     "output_type": "stream",
     "text": [
      " gen pre-train\n"
     ]
    },
    {
     "name": "stderr",
     "output_type": "stream",
     "text": [
      "\r",
      " 41%|████      | 98/240 [12:45<15:43,  6.64s/it]"
     ]
    },
    {
     "name": "stdout",
     "output_type": "stream",
     "text": [
      " gen pre-train\n"
     ]
    },
    {
     "name": "stderr",
     "output_type": "stream",
     "text": [
      "\r",
      " 41%|████▏     | 99/240 [12:52<15:34,  6.63s/it]"
     ]
    },
    {
     "name": "stdout",
     "output_type": "stream",
     "text": [
      " gen pre-train\n"
     ]
    },
    {
     "name": "stderr",
     "output_type": "stream",
     "text": [
      "\r",
      " 42%|████▏     | 100/240 [12:58<15:30,  6.65s/it]"
     ]
    },
    {
     "name": "stdout",
     "output_type": "stream",
     "text": [
      " gen pre-train\n"
     ]
    },
    {
     "name": "stderr",
     "output_type": "stream",
     "text": [
      "\r",
      " 42%|████▏     | 101/240 [13:06<16:02,  6.93s/it]"
     ]
    },
    {
     "name": "stdout",
     "output_type": "stream",
     "text": [
      " gen pre-train\n"
     ]
    },
    {
     "name": "stderr",
     "output_type": "stream",
     "text": [
      "\r",
      " 42%|████▎     | 102/240 [13:14<16:22,  7.12s/it]"
     ]
    },
    {
     "name": "stdout",
     "output_type": "stream",
     "text": [
      " gen pre-train\n"
     ]
    },
    {
     "name": "stderr",
     "output_type": "stream",
     "text": [
      "\r",
      " 43%|████▎     | 103/240 [13:20<16:05,  7.04s/it]"
     ]
    },
    {
     "name": "stdout",
     "output_type": "stream",
     "text": [
      " gen pre-train\n"
     ]
    },
    {
     "name": "stderr",
     "output_type": "stream",
     "text": [
      "\r",
      " 43%|████▎     | 104/240 [13:27<15:46,  6.96s/it]"
     ]
    },
    {
     "name": "stdout",
     "output_type": "stream",
     "text": [
      " gen pre-train\n"
     ]
    },
    {
     "name": "stderr",
     "output_type": "stream",
     "text": [
      "\r",
      " 44%|████▍     | 105/240 [13:34<15:23,  6.84s/it]"
     ]
    },
    {
     "name": "stdout",
     "output_type": "stream",
     "text": [
      " gen pre-train\n"
     ]
    },
    {
     "name": "stderr",
     "output_type": "stream",
     "text": [
      "\r",
      " 44%|████▍     | 106/240 [13:41<15:17,  6.85s/it]"
     ]
    },
    {
     "name": "stdout",
     "output_type": "stream",
     "text": [
      " gen pre-train\n"
     ]
    },
    {
     "name": "stderr",
     "output_type": "stream",
     "text": [
      "\r",
      " 45%|████▍     | 107/240 [13:47<14:54,  6.73s/it]"
     ]
    },
    {
     "name": "stdout",
     "output_type": "stream",
     "text": [
      " gen pre-train\n"
     ]
    },
    {
     "name": "stderr",
     "output_type": "stream",
     "text": [
      "\r",
      " 45%|████▌     | 108/240 [13:54<14:44,  6.70s/it]"
     ]
    },
    {
     "name": "stdout",
     "output_type": "stream",
     "text": [
      " gen pre-train\n"
     ]
    },
    {
     "name": "stderr",
     "output_type": "stream",
     "text": [
      "\r",
      " 45%|████▌     | 109/240 [14:00<14:28,  6.63s/it]"
     ]
    },
    {
     "name": "stdout",
     "output_type": "stream",
     "text": [
      " gen pre-train\n"
     ]
    },
    {
     "name": "stderr",
     "output_type": "stream",
     "text": [
      "\r",
      " 46%|████▌     | 110/240 [14:07<14:33,  6.72s/it]"
     ]
    },
    {
     "name": "stdout",
     "output_type": "stream",
     "text": [
      " gen pre-train\n"
     ]
    },
    {
     "name": "stderr",
     "output_type": "stream",
     "text": [
      "\r",
      " 46%|████▋     | 111/240 [14:14<14:31,  6.76s/it]"
     ]
    },
    {
     "name": "stdout",
     "output_type": "stream",
     "text": [
      " gen pre-train\n"
     ]
    },
    {
     "name": "stderr",
     "output_type": "stream",
     "text": [
      "\r",
      " 47%|████▋     | 112/240 [14:21<14:19,  6.72s/it]"
     ]
    },
    {
     "name": "stdout",
     "output_type": "stream",
     "text": [
      " gen pre-train\n"
     ]
    },
    {
     "name": "stderr",
     "output_type": "stream",
     "text": [
      "\r",
      " 47%|████▋     | 113/240 [14:27<14:13,  6.72s/it]"
     ]
    },
    {
     "name": "stdout",
     "output_type": "stream",
     "text": [
      " gen pre-train\n"
     ]
    },
    {
     "name": "stderr",
     "output_type": "stream",
     "text": [
      "\r",
      " 48%|████▊     | 114/240 [14:34<14:05,  6.71s/it]"
     ]
    },
    {
     "name": "stdout",
     "output_type": "stream",
     "text": [
      " gen pre-train\n"
     ]
    },
    {
     "name": "stderr",
     "output_type": "stream",
     "text": [
      "\r",
      " 48%|████▊     | 115/240 [14:41<13:54,  6.68s/it]"
     ]
    },
    {
     "name": "stdout",
     "output_type": "stream",
     "text": [
      " gen pre-train\n"
     ]
    },
    {
     "name": "stderr",
     "output_type": "stream",
     "text": [
      "\r",
      " 48%|████▊     | 116/240 [14:47<13:50,  6.70s/it]"
     ]
    },
    {
     "name": "stdout",
     "output_type": "stream",
     "text": [
      " gen pre-train\n"
     ]
    },
    {
     "name": "stderr",
     "output_type": "stream",
     "text": [
      "\r",
      " 49%|████▉     | 117/240 [14:54<13:37,  6.65s/it]"
     ]
    },
    {
     "name": "stdout",
     "output_type": "stream",
     "text": [
      " gen pre-train\n"
     ]
    },
    {
     "name": "stderr",
     "output_type": "stream",
     "text": [
      "\r",
      " 49%|████▉     | 118/240 [15:00<13:27,  6.62s/it]"
     ]
    },
    {
     "name": "stdout",
     "output_type": "stream",
     "text": [
      " gen pre-train\n"
     ]
    },
    {
     "name": "stderr",
     "output_type": "stream",
     "text": [
      "\r",
      " 50%|████▉     | 119/240 [15:07<13:20,  6.61s/it]"
     ]
    },
    {
     "name": "stdout",
     "output_type": "stream",
     "text": [
      " gen pre-train\n"
     ]
    },
    {
     "name": "stderr",
     "output_type": "stream",
     "text": [
      "\r",
      " 50%|█████     | 120/240 [15:14<13:20,  6.67s/it]"
     ]
    },
    {
     "name": "stdout",
     "output_type": "stream",
     "text": [
      " gen pre-train\n",
      "\t test_loss 6.683753490447998, train_loss 0.784264087677002\n"
     ]
    },
    {
     "name": "stderr",
     "output_type": "stream",
     "text": [
      "\r",
      " 50%|█████     | 121/240 [16:02<37:52, 19.09s/it]"
     ]
    },
    {
     "name": "stdout",
     "output_type": "stream",
     "text": [
      "~~~ Summary Results ~~~\n",
      "Total samples   :   6400\n",
      "Unique          :   6400 (100.00%)\n",
      "Unverified      :   4601 (71.89%)\n",
      "Verified        :   1799 (28.11%)\n",
      "\tmetrics...\n",
      "novelty              : 0.9994\n",
      "hard_novelty         : 0.9989\n",
      "soft_novelty         : 0.9996\n",
      "diversity            : 0.4918\n",
      "conciseness          : 0.9922\n",
      "solubility           : 0.6670\n",
      "naturalness          : 0.5893\n",
      "synthesizability     : 0.6051\n",
      "\n",
      "Example of good samples:\n",
      "Cc1c(C)c(=O)sc(-c2cccc(Cl)c2)n1\n",
      "COc1cccc(C2C(O)C(N)=NC(=O)NN(C)CC2)c1\n",
      "CCCCNC(CO)(Cc1ccc(Cl)cc1)C(=O)O\n",
      "O=C(Cc1ccc(O)cc1Cl)N(C(=O)NO)c1ccccc1\n",
      "Cc1ccccc1-c1cc(-c2ccccc2)n2ccnc2c1\n",
      "O=C(Nc1ccc(Cl)cc1)n1cc(-c2ccccc2F)cc1\n",
      "O=C(CCCOCc1ccc(N(C)C)cc1)c1cccc2ccccc12\n",
      "Cc1ccc(OCCN(C)C(=O)Nc2nccs2)c2ccccc12\n",
      "Nc1nc(-c2ccccn2)ccc1N1CC1C1CN(CCCO)CN1\n",
      "O=C(Nc1ccccc1)C1C(n2cc3ccccc3n2)CC1\n",
      "\n",
      "Example of bad samples:\n",
      "CC12NOC2C(=O)C(=CCC2(C)C)N(C)CC1\n",
      "Oc1nc(CO)c2nc(Nc3ccc(N4CNCCN4)cnc34)nc2c\n",
      "CC(C)OCc1ccc(CNCCC(=O)NO)c1)C(C)=O\n",
      "CC(=O)Nc1nc2cccc(N(Cc3ccccc3)c2)Cc1ccccc\n",
      "Cc1cncc(-c2cc3ccc[nH]3c2c2ccccc23)c1\n",
      "O=C(NNc1ccc(OC)cc1)NC1Cc2[nH]ccc2c1C\n",
      "c1ccc(CCCCNC23CCCOC4CC4(C)CCC43)C1O\n",
      "CCCCCCCCCCCCCCn1nc(O)c2ncc(=O)cc2c1=O)C(\n",
      "COc1csc2[nH]c(-c3ccc4cc4ccccc4c3)nc(O)c1\n",
      "CC(C)CC(O)(C)C(=O)c1ccc2c(c1)OCCN1Cc1ccc\n",
      "~~~~~~~~~~~~~~~~~~~~~~~\n",
      " gen pre-train\n"
     ]
    },
    {
     "name": "stderr",
     "output_type": "stream",
     "text": [
      "\r",
      " 51%|█████     | 122/240 [16:09<30:26, 15.48s/it]"
     ]
    },
    {
     "name": "stdout",
     "output_type": "stream",
     "text": [
      " gen pre-train\n"
     ]
    },
    {
     "name": "stderr",
     "output_type": "stream",
     "text": [
      "\r",
      " 51%|█████▏    | 123/240 [16:16<25:19, 12.99s/it]"
     ]
    },
    {
     "name": "stdout",
     "output_type": "stream",
     "text": [
      " gen pre-train\n"
     ]
    },
    {
     "name": "stderr",
     "output_type": "stream",
     "text": [
      "\r",
      " 52%|█████▏    | 124/240 [16:23<21:47, 11.27s/it]"
     ]
    },
    {
     "name": "stdout",
     "output_type": "stream",
     "text": [
      " gen pre-train\n"
     ]
    },
    {
     "name": "stderr",
     "output_type": "stream",
     "text": [
      "\r",
      " 52%|█████▏    | 125/240 [16:32<19:48, 10.34s/it]"
     ]
    },
    {
     "name": "stdout",
     "output_type": "stream",
     "text": [
      " gen pre-train\n"
     ]
    },
    {
     "name": "stderr",
     "output_type": "stream",
     "text": [
      "\r",
      " 52%|█████▎    | 126/240 [16:40<18:25,  9.70s/it]"
     ]
    },
    {
     "name": "stdout",
     "output_type": "stream",
     "text": [
      " gen pre-train\n"
     ]
    },
    {
     "name": "stderr",
     "output_type": "stream",
     "text": [
      "\r",
      " 53%|█████▎    | 127/240 [16:49<17:57,  9.54s/it]"
     ]
    },
    {
     "name": "stdout",
     "output_type": "stream",
     "text": [
      " gen pre-train\n"
     ]
    },
    {
     "name": "stderr",
     "output_type": "stream",
     "text": [
      "\r",
      " 53%|█████▎    | 128/240 [16:58<17:20,  9.29s/it]"
     ]
    },
    {
     "name": "stdout",
     "output_type": "stream",
     "text": [
      " gen pre-train\n"
     ]
    },
    {
     "name": "stderr",
     "output_type": "stream",
     "text": [
      "\r",
      " 54%|█████▍    | 129/240 [17:06<16:55,  9.15s/it]"
     ]
    },
    {
     "name": "stdout",
     "output_type": "stream",
     "text": [
      " gen pre-train\n"
     ]
    },
    {
     "name": "stderr",
     "output_type": "stream",
     "text": [
      "\r",
      " 54%|█████▍    | 130/240 [17:15<16:18,  8.89s/it]"
     ]
    },
    {
     "name": "stdout",
     "output_type": "stream",
     "text": [
      " gen pre-train\n"
     ]
    },
    {
     "name": "stderr",
     "output_type": "stream",
     "text": [
      "\r",
      " 55%|█████▍    | 131/240 [17:23<15:52,  8.74s/it]"
     ]
    },
    {
     "name": "stdout",
     "output_type": "stream",
     "text": [
      " gen pre-train\n"
     ]
    },
    {
     "name": "stderr",
     "output_type": "stream",
     "text": [
      "\r",
      " 55%|█████▌    | 132/240 [17:32<15:39,  8.70s/it]"
     ]
    },
    {
     "name": "stdout",
     "output_type": "stream",
     "text": [
      " gen pre-train\n"
     ]
    },
    {
     "name": "stderr",
     "output_type": "stream",
     "text": [
      "\r",
      " 55%|█████▌    | 133/240 [17:42<16:16,  9.13s/it]"
     ]
    },
    {
     "name": "stdout",
     "output_type": "stream",
     "text": [
      " gen pre-train\n"
     ]
    },
    {
     "name": "stderr",
     "output_type": "stream",
     "text": [
      "\r",
      " 56%|█████▌    | 134/240 [17:51<16:06,  9.12s/it]"
     ]
    },
    {
     "name": "stdout",
     "output_type": "stream",
     "text": [
      " gen pre-train\n"
     ]
    },
    {
     "name": "stderr",
     "output_type": "stream",
     "text": [
      "\r",
      " 56%|█████▋    | 135/240 [17:59<15:18,  8.75s/it]"
     ]
    },
    {
     "name": "stdout",
     "output_type": "stream",
     "text": [
      " gen pre-train\n"
     ]
    },
    {
     "name": "stderr",
     "output_type": "stream",
     "text": [
      "\r",
      " 57%|█████▋    | 136/240 [18:08<15:09,  8.74s/it]"
     ]
    },
    {
     "name": "stdout",
     "output_type": "stream",
     "text": [
      " gen pre-train\n"
     ]
    },
    {
     "name": "stderr",
     "output_type": "stream",
     "text": [
      "\r",
      " 57%|█████▋    | 137/240 [18:16<14:58,  8.72s/it]"
     ]
    },
    {
     "name": "stdout",
     "output_type": "stream",
     "text": [
      " gen pre-train\n"
     ]
    },
    {
     "name": "stderr",
     "output_type": "stream",
     "text": [
      "\r",
      " 57%|█████▊    | 138/240 [18:25<14:56,  8.79s/it]"
     ]
    },
    {
     "name": "stdout",
     "output_type": "stream",
     "text": [
      " gen pre-train\n"
     ]
    },
    {
     "name": "stderr",
     "output_type": "stream",
     "text": [
      "\r",
      " 58%|█████▊    | 139/240 [18:35<15:08,  9.00s/it]"
     ]
    },
    {
     "name": "stdout",
     "output_type": "stream",
     "text": [
      " gen pre-train\n"
     ]
    },
    {
     "name": "stderr",
     "output_type": "stream",
     "text": [
      "\r",
      " 58%|█████▊    | 140/240 [18:43<14:40,  8.81s/it]"
     ]
    },
    {
     "name": "stdout",
     "output_type": "stream",
     "text": [
      " gen pre-train\n"
     ]
    },
    {
     "name": "stderr",
     "output_type": "stream",
     "text": [
      "\r",
      " 59%|█████▉    | 141/240 [18:51<14:14,  8.63s/it]"
     ]
    },
    {
     "name": "stdout",
     "output_type": "stream",
     "text": [
      " gen pre-train\n"
     ]
    },
    {
     "name": "stderr",
     "output_type": "stream",
     "text": [
      "\r",
      " 59%|█████▉    | 142/240 [19:00<13:59,  8.56s/it]"
     ]
    },
    {
     "name": "stdout",
     "output_type": "stream",
     "text": [
      " gen pre-train\n"
     ]
    },
    {
     "name": "stderr",
     "output_type": "stream",
     "text": [
      "\r",
      " 60%|█████▉    | 143/240 [19:09<14:19,  8.86s/it]"
     ]
    },
    {
     "name": "stdout",
     "output_type": "stream",
     "text": [
      " gen pre-train\n"
     ]
    },
    {
     "name": "stderr",
     "output_type": "stream",
     "text": [
      "\r",
      " 60%|██████    | 144/240 [19:18<14:12,  8.88s/it]"
     ]
    },
    {
     "name": "stdout",
     "output_type": "stream",
     "text": [
      " gen pre-train\n"
     ]
    },
    {
     "name": "stderr",
     "output_type": "stream",
     "text": [
      "\r",
      " 60%|██████    | 145/240 [19:26<13:38,  8.61s/it]"
     ]
    },
    {
     "name": "stdout",
     "output_type": "stream",
     "text": [
      " gen pre-train\n"
     ]
    },
    {
     "name": "stderr",
     "output_type": "stream",
     "text": [
      "\r",
      " 61%|██████    | 146/240 [19:35<13:40,  8.73s/it]"
     ]
    },
    {
     "name": "stdout",
     "output_type": "stream",
     "text": [
      " gen pre-train\n"
     ]
    },
    {
     "name": "stderr",
     "output_type": "stream",
     "text": [
      "\r",
      " 61%|██████▏   | 147/240 [19:45<13:49,  8.92s/it]"
     ]
    },
    {
     "name": "stdout",
     "output_type": "stream",
     "text": [
      " gen pre-train\n"
     ]
    },
    {
     "name": "stderr",
     "output_type": "stream",
     "text": [
      "\r",
      " 62%|██████▏   | 148/240 [19:54<13:47,  8.99s/it]"
     ]
    },
    {
     "name": "stdout",
     "output_type": "stream",
     "text": [
      " gen pre-train\n"
     ]
    },
    {
     "name": "stderr",
     "output_type": "stream",
     "text": [
      "\r",
      " 62%|██████▏   | 149/240 [20:02<13:23,  8.83s/it]"
     ]
    },
    {
     "name": "stdout",
     "output_type": "stream",
     "text": [
      " gen pre-train\n"
     ]
    },
    {
     "name": "stderr",
     "output_type": "stream",
     "text": [
      "\r",
      " 62%|██████▎   | 150/240 [20:11<13:09,  8.78s/it]"
     ]
    },
    {
     "name": "stdout",
     "output_type": "stream",
     "text": [
      " gen pre-train\n"
     ]
    },
    {
     "name": "stderr",
     "output_type": "stream",
     "text": [
      "\r",
      " 63%|██████▎   | 151/240 [20:20<13:02,  8.80s/it]"
     ]
    },
    {
     "name": "stdout",
     "output_type": "stream",
     "text": [
      " gen pre-train\n"
     ]
    },
    {
     "name": "stderr",
     "output_type": "stream",
     "text": [
      "\r",
      " 63%|██████▎   | 152/240 [20:28<12:48,  8.74s/it]"
     ]
    },
    {
     "name": "stdout",
     "output_type": "stream",
     "text": [
      " gen pre-train\n"
     ]
    },
    {
     "name": "stderr",
     "output_type": "stream",
     "text": [
      "\r",
      " 64%|██████▍   | 153/240 [20:37<12:44,  8.78s/it]"
     ]
    },
    {
     "name": "stdout",
     "output_type": "stream",
     "text": [
      " gen pre-train\n"
     ]
    },
    {
     "name": "stderr",
     "output_type": "stream",
     "text": [
      "\r",
      " 64%|██████▍   | 154/240 [20:46<12:29,  8.71s/it]"
     ]
    },
    {
     "name": "stdout",
     "output_type": "stream",
     "text": [
      " gen pre-train\n"
     ]
    },
    {
     "name": "stderr",
     "output_type": "stream",
     "text": [
      "\r",
      " 65%|██████▍   | 155/240 [20:53<11:40,  8.24s/it]"
     ]
    },
    {
     "name": "stdout",
     "output_type": "stream",
     "text": [
      " gen pre-train\n"
     ]
    },
    {
     "name": "stderr",
     "output_type": "stream",
     "text": [
      "\r",
      " 65%|██████▌   | 156/240 [21:01<11:26,  8.17s/it]"
     ]
    },
    {
     "name": "stdout",
     "output_type": "stream",
     "text": [
      " gen pre-train\n"
     ]
    },
    {
     "name": "stderr",
     "output_type": "stream",
     "text": [
      "\r",
      " 65%|██████▌   | 157/240 [21:09<11:09,  8.07s/it]"
     ]
    },
    {
     "name": "stdout",
     "output_type": "stream",
     "text": [
      " gen pre-train\n"
     ]
    },
    {
     "name": "stderr",
     "output_type": "stream",
     "text": [
      "\r",
      " 66%|██████▌   | 158/240 [21:16<10:47,  7.90s/it]"
     ]
    },
    {
     "name": "stdout",
     "output_type": "stream",
     "text": [
      " gen pre-train\n"
     ]
    },
    {
     "name": "stderr",
     "output_type": "stream",
     "text": [
      "\r",
      " 66%|██████▋   | 159/240 [21:25<10:51,  8.05s/it]"
     ]
    },
    {
     "name": "stdout",
     "output_type": "stream",
     "text": [
      " gen pre-train\n"
     ]
    },
    {
     "name": "stderr",
     "output_type": "stream",
     "text": [
      "\r",
      " 67%|██████▋   | 160/240 [21:32<10:23,  7.79s/it]"
     ]
    },
    {
     "name": "stdout",
     "output_type": "stream",
     "text": [
      " gen pre-train\n",
      "\t test_loss 6.655158042907715, train_loss 0.7785043716430664\n"
     ]
    },
    {
     "name": "stderr",
     "output_type": "stream",
     "text": [
      "\r",
      " 67%|██████▋   | 161/240 [22:21<26:37, 20.23s/it]"
     ]
    },
    {
     "name": "stdout",
     "output_type": "stream",
     "text": [
      "~~~ Summary Results ~~~\n",
      "Total samples   :   6400\n",
      "Unique          :   6400 (100.00%)\n",
      "Unverified      :   4574 (71.47%)\n",
      "Verified        :   1826 (28.53%)\n",
      "\tmetrics...\n",
      "novelty              : 1.0000\n",
      "hard_novelty         : 1.0000\n",
      "soft_novelty         : 1.0000\n",
      "diversity            : 0.4647\n",
      "conciseness          : 0.9903\n",
      "solubility           : 0.6703\n",
      "naturalness          : 0.5896\n",
      "synthesizability     : 0.6035\n",
      "\n",
      "Example of good samples:\n",
      "Cc1cc(C(=O)NO)c(-c2cccc3nnnc3n2)cc1\n",
      "O=C1C(=C2CC3C(O)C3)C(c3ccccc3)CCN2CC1\n",
      "CS(=O)(=O)c1ccc(OCC(=O)c2cccnc2F)cn1\n",
      "Cc1ccccc1Nc1nc2cc3nc(-c4cccs4)ncc3c2c1\n",
      "CN1CC(C(=O)NC2CC3NC(CCCC3)C2)c2ccccc21\n",
      "Cc1cccc(OCCCNc2nc3cccc(O)c3c3ccccc23)c1\n",
      "CC#CCCOc1nc(N2CCN2C(=O)C=C)nc2ccccc12\n",
      "CCN(CCCCc1ccc(F)cc1)C1CCNC1(C)C(C)O\n",
      "Cc1nc(O)ccc1-c1nc2ccc(F)c(C)c2c(N)n1\n",
      "Cc1ccc(-c2ccc(Cl)cc2NC(=O)OCC2CCCCN2)cc1\n",
      "\n",
      "Example of bad samples:\n",
      "CCc1c2ccc(OCc3cccnc3)nc2c1)C(=O)O)c1ccnn\n",
      "COc1cc(-c2c(C)c3nc(O)c(O)cc3n2)ccc1Cl\n",
      "Cc1cc(C)nc1C(=O)Nc1cccc2c1CCCC2C)C1CCCC1\n",
      "CC1CCCN1C(=O)c1nc2ccnc(OCCOc3ccc(CC)cc3)\n",
      "CCCC1(CCC(=O)NO)Nc2sc(C(=O)O)cc2=O)c1\n",
      "Fc1cccc(C(=O)Nc2ncc(N3CCc3ccccc3)nc2)c1\n",
      "COc1ccc2nc(-c3ccc(Cl)cc3)nc2n1\n",
      "CCOC(=O)N1C(=O)Nc2ccc(N3CCCCC3)cc2c21\n",
      "CC(=CCc1ccccc1C)c1cc(s1)Cc1cccc(CC)c1OC\n",
      "CC(C)n2(c1ccccc1Cl)c1c(Cl)ccc2sc(Cl)c1C(\n",
      "~~~~~~~~~~~~~~~~~~~~~~~\n",
      " gen pre-train\n"
     ]
    },
    {
     "name": "stderr",
     "output_type": "stream",
     "text": [
      "\r",
      " 68%|██████▊   | 162/240 [22:28<21:08, 16.27s/it]"
     ]
    },
    {
     "name": "stdout",
     "output_type": "stream",
     "text": [
      " gen pre-train\n"
     ]
    },
    {
     "name": "stderr",
     "output_type": "stream",
     "text": [
      "\r",
      " 68%|██████▊   | 163/240 [22:35<17:10, 13.38s/it]"
     ]
    },
    {
     "name": "stdout",
     "output_type": "stream",
     "text": [
      " gen pre-train\n"
     ]
    },
    {
     "name": "stderr",
     "output_type": "stream",
     "text": [
      "\r",
      " 68%|██████▊   | 164/240 [22:41<14:25, 11.39s/it]"
     ]
    },
    {
     "name": "stdout",
     "output_type": "stream",
     "text": [
      " gen pre-train\n"
     ]
    },
    {
     "name": "stderr",
     "output_type": "stream",
     "text": [
      "\r",
      " 69%|██████▉   | 165/240 [22:48<12:29,  9.99s/it]"
     ]
    },
    {
     "name": "stdout",
     "output_type": "stream",
     "text": [
      " gen pre-train\n"
     ]
    },
    {
     "name": "stderr",
     "output_type": "stream",
     "text": [
      "\r",
      " 69%|██████▉   | 166/240 [22:55<11:11,  9.07s/it]"
     ]
    },
    {
     "name": "stdout",
     "output_type": "stream",
     "text": [
      " gen pre-train\n"
     ]
    },
    {
     "name": "stderr",
     "output_type": "stream",
     "text": [
      "\r",
      " 70%|██████▉   | 167/240 [23:02<10:19,  8.48s/it]"
     ]
    },
    {
     "name": "stdout",
     "output_type": "stream",
     "text": [
      " gen pre-train\n"
     ]
    },
    {
     "name": "stderr",
     "output_type": "stream",
     "text": [
      "\r",
      " 70%|███████   | 168/240 [23:09<09:32,  7.95s/it]"
     ]
    },
    {
     "name": "stdout",
     "output_type": "stream",
     "text": [
      " gen pre-train\n"
     ]
    },
    {
     "name": "stderr",
     "output_type": "stream",
     "text": [
      "\r",
      " 70%|███████   | 169/240 [23:16<09:01,  7.62s/it]"
     ]
    },
    {
     "name": "stdout",
     "output_type": "stream",
     "text": [
      " gen pre-train\n"
     ]
    },
    {
     "name": "stderr",
     "output_type": "stream",
     "text": [
      "\r",
      " 71%|███████   | 170/240 [23:23<08:45,  7.51s/it]"
     ]
    },
    {
     "name": "stdout",
     "output_type": "stream",
     "text": [
      " gen pre-train\n"
     ]
    },
    {
     "name": "stderr",
     "output_type": "stream",
     "text": [
      "\r",
      " 71%|███████▏  | 171/240 [23:30<08:36,  7.48s/it]"
     ]
    },
    {
     "name": "stdout",
     "output_type": "stream",
     "text": [
      " gen pre-train\n"
     ]
    },
    {
     "name": "stderr",
     "output_type": "stream",
     "text": [
      "\r",
      " 72%|███████▏  | 172/240 [23:37<08:16,  7.31s/it]"
     ]
    },
    {
     "name": "stdout",
     "output_type": "stream",
     "text": [
      " gen pre-train\n"
     ]
    },
    {
     "name": "stderr",
     "output_type": "stream",
     "text": [
      "\r",
      " 72%|███████▏  | 173/240 [23:44<08:05,  7.25s/it]"
     ]
    },
    {
     "name": "stdout",
     "output_type": "stream",
     "text": [
      " gen pre-train\n"
     ]
    },
    {
     "name": "stderr",
     "output_type": "stream",
     "text": [
      "\r",
      " 72%|███████▎  | 174/240 [23:51<07:50,  7.13s/it]"
     ]
    },
    {
     "name": "stdout",
     "output_type": "stream",
     "text": [
      " gen pre-train\n"
     ]
    },
    {
     "name": "stderr",
     "output_type": "stream",
     "text": [
      "\r",
      " 73%|███████▎  | 175/240 [23:59<07:48,  7.20s/it]"
     ]
    },
    {
     "name": "stdout",
     "output_type": "stream",
     "text": [
      " gen pre-train\n"
     ]
    },
    {
     "name": "stderr",
     "output_type": "stream",
     "text": [
      "\r",
      " 73%|███████▎  | 176/240 [24:07<07:58,  7.48s/it]"
     ]
    },
    {
     "name": "stdout",
     "output_type": "stream",
     "text": [
      " gen pre-train\n"
     ]
    },
    {
     "name": "stderr",
     "output_type": "stream",
     "text": [
      "\r",
      " 74%|███████▍  | 177/240 [24:14<07:51,  7.49s/it]"
     ]
    },
    {
     "name": "stdout",
     "output_type": "stream",
     "text": [
      " gen pre-train\n"
     ]
    },
    {
     "name": "stderr",
     "output_type": "stream",
     "text": [
      "\r",
      " 74%|███████▍  | 178/240 [24:21<07:31,  7.28s/it]"
     ]
    },
    {
     "name": "stdout",
     "output_type": "stream",
     "text": [
      " gen pre-train\n"
     ]
    },
    {
     "name": "stderr",
     "output_type": "stream",
     "text": [
      "\r",
      " 75%|███████▍  | 179/240 [24:28<07:17,  7.17s/it]"
     ]
    },
    {
     "name": "stdout",
     "output_type": "stream",
     "text": [
      " gen pre-train\n"
     ]
    },
    {
     "name": "stderr",
     "output_type": "stream",
     "text": [
      "\r",
      " 75%|███████▌  | 180/240 [24:35<07:06,  7.11s/it]"
     ]
    },
    {
     "name": "stdout",
     "output_type": "stream",
     "text": [
      " gen pre-train\n"
     ]
    },
    {
     "name": "stderr",
     "output_type": "stream",
     "text": [
      "\r",
      " 75%|███████▌  | 181/240 [24:42<06:52,  7.00s/it]"
     ]
    },
    {
     "name": "stdout",
     "output_type": "stream",
     "text": [
      " gen pre-train\n"
     ]
    },
    {
     "name": "stderr",
     "output_type": "stream",
     "text": [
      "\r",
      " 76%|███████▌  | 182/240 [24:49<06:42,  6.95s/it]"
     ]
    },
    {
     "name": "stdout",
     "output_type": "stream",
     "text": [
      " gen pre-train\n"
     ]
    },
    {
     "name": "stderr",
     "output_type": "stream",
     "text": [
      "\r",
      " 76%|███████▋  | 183/240 [24:55<06:32,  6.89s/it]"
     ]
    },
    {
     "name": "stdout",
     "output_type": "stream",
     "text": [
      " gen pre-train\n"
     ]
    },
    {
     "name": "stderr",
     "output_type": "stream",
     "text": [
      "\r",
      " 77%|███████▋  | 184/240 [25:03<06:34,  7.05s/it]"
     ]
    },
    {
     "name": "stdout",
     "output_type": "stream",
     "text": [
      " gen pre-train\n"
     ]
    },
    {
     "name": "stderr",
     "output_type": "stream",
     "text": [
      "\r",
      " 77%|███████▋  | 185/240 [25:10<06:38,  7.25s/it]"
     ]
    },
    {
     "name": "stdout",
     "output_type": "stream",
     "text": [
      " gen pre-train\n"
     ]
    },
    {
     "name": "stderr",
     "output_type": "stream",
     "text": [
      "\r",
      " 78%|███████▊  | 186/240 [25:18<06:41,  7.43s/it]"
     ]
    },
    {
     "name": "stdout",
     "output_type": "stream",
     "text": [
      " gen pre-train\n"
     ]
    },
    {
     "name": "stderr",
     "output_type": "stream",
     "text": [
      "\r",
      " 78%|███████▊  | 187/240 [25:27<06:48,  7.71s/it]"
     ]
    },
    {
     "name": "stdout",
     "output_type": "stream",
     "text": [
      " gen pre-train\n"
     ]
    },
    {
     "name": "stderr",
     "output_type": "stream",
     "text": [
      "\r",
      " 78%|███████▊  | 188/240 [25:34<06:35,  7.60s/it]"
     ]
    },
    {
     "name": "stdout",
     "output_type": "stream",
     "text": [
      " gen pre-train\n"
     ]
    },
    {
     "name": "stderr",
     "output_type": "stream",
     "text": [
      "\r",
      " 79%|███████▉  | 189/240 [25:41<06:24,  7.55s/it]"
     ]
    },
    {
     "name": "stdout",
     "output_type": "stream",
     "text": [
      " gen pre-train\n"
     ]
    },
    {
     "name": "stderr",
     "output_type": "stream",
     "text": [
      "\r",
      " 79%|███████▉  | 190/240 [25:48<06:06,  7.33s/it]"
     ]
    },
    {
     "name": "stdout",
     "output_type": "stream",
     "text": [
      " gen pre-train\n"
     ]
    },
    {
     "name": "stderr",
     "output_type": "stream",
     "text": [
      "\r",
      " 80%|███████▉  | 191/240 [25:56<06:04,  7.44s/it]"
     ]
    },
    {
     "name": "stdout",
     "output_type": "stream",
     "text": [
      " gen pre-train\n"
     ]
    },
    {
     "name": "stderr",
     "output_type": "stream",
     "text": [
      "\r",
      " 80%|████████  | 192/240 [26:03<05:45,  7.20s/it]"
     ]
    },
    {
     "name": "stdout",
     "output_type": "stream",
     "text": [
      " gen pre-train\n"
     ]
    },
    {
     "name": "stderr",
     "output_type": "stream",
     "text": [
      "\r",
      " 80%|████████  | 193/240 [26:10<05:37,  7.19s/it]"
     ]
    },
    {
     "name": "stdout",
     "output_type": "stream",
     "text": [
      " gen pre-train\n"
     ]
    },
    {
     "name": "stderr",
     "output_type": "stream",
     "text": [
      "\r",
      " 81%|████████  | 194/240 [26:17<05:28,  7.15s/it]"
     ]
    },
    {
     "name": "stdout",
     "output_type": "stream",
     "text": [
      " gen pre-train\n"
     ]
    },
    {
     "name": "stderr",
     "output_type": "stream",
     "text": [
      "\r",
      " 81%|████████▏ | 195/240 [26:26<05:48,  7.73s/it]"
     ]
    },
    {
     "name": "stdout",
     "output_type": "stream",
     "text": [
      " gen pre-train\n"
     ]
    },
    {
     "name": "stderr",
     "output_type": "stream",
     "text": [
      "\r",
      " 82%|████████▏ | 196/240 [26:33<05:34,  7.60s/it]"
     ]
    },
    {
     "name": "stdout",
     "output_type": "stream",
     "text": [
      " gen pre-train\n"
     ]
    },
    {
     "name": "stderr",
     "output_type": "stream",
     "text": [
      "\r",
      " 82%|████████▏ | 197/240 [26:41<05:28,  7.64s/it]"
     ]
    },
    {
     "name": "stdout",
     "output_type": "stream",
     "text": [
      " gen pre-train\n"
     ]
    },
    {
     "name": "stderr",
     "output_type": "stream",
     "text": [
      "\r",
      " 82%|████████▎ | 198/240 [26:48<05:19,  7.62s/it]"
     ]
    },
    {
     "name": "stdout",
     "output_type": "stream",
     "text": [
      " gen pre-train\n"
     ]
    },
    {
     "name": "stderr",
     "output_type": "stream",
     "text": [
      "\r",
      " 83%|████████▎ | 199/240 [26:55<05:04,  7.42s/it]"
     ]
    },
    {
     "name": "stdout",
     "output_type": "stream",
     "text": [
      " gen pre-train\n"
     ]
    },
    {
     "name": "stderr",
     "output_type": "stream",
     "text": [
      "\r",
      " 83%|████████▎ | 200/240 [27:03<04:53,  7.34s/it]"
     ]
    },
    {
     "name": "stdout",
     "output_type": "stream",
     "text": [
      " gen pre-train\n",
      "\t test_loss 6.652817249298096, train_loss 0.7738779783248901\n"
     ]
    },
    {
     "name": "stderr",
     "output_type": "stream",
     "text": [
      "\r",
      " 84%|████████▍ | 201/240 [27:54<13:16, 20.43s/it]"
     ]
    },
    {
     "name": "stdout",
     "output_type": "stream",
     "text": [
      "~~~ Summary Results ~~~\n",
      "Total samples   :   6400\n",
      "Unique          :   6400 (100.00%)\n",
      "Unverified      :   4601 (71.89%)\n",
      "Verified        :   1799 (28.11%)\n",
      "\tmetrics...\n",
      "novelty              : 1.0000\n",
      "hard_novelty         : 1.0000\n",
      "soft_novelty         : 1.0000\n",
      "diversity            : 0.4784\n",
      "conciseness          : 0.9908\n",
      "solubility           : 0.6554\n",
      "naturalness          : 0.5805\n",
      "synthesizability     : 0.6014\n",
      "\n",
      "Example of good samples:\n",
      "CC1CN(CC(=O)Nc2nc3c(C)cncc3[nH]2)CC1\n",
      "O=C(O)CCCC1C=CN1C(=O)c1cccc(C(N)=O)c1\n",
      "COC(=O)C1CNCc2ccccc2C=NC1=C1CCCC1O\n",
      "O=C(Nc1cnccn1)c1c(F)cccc1OC(C)C(=O)O\n",
      "Cc1ccc(CCCCOc2c(Cl)cc(Cl)cc2)cc1-c1ccco1\n",
      "CCCc1[nH]c(CC(=O)NCC2(CCCC)c3sccc3C2)cc1\n",
      "CC(C(=O)Cc1cccc(N(C)C)c1Cc1ccccc1)C(=O)O\n",
      "O=C(Cc1ccc(OCc2ccccc2)cc1)c1ncc(F)cc1\n",
      "COc1cccc(Cl)c1-c1c(O)cc(C)cc1-c1ccccn1\n",
      "CNc1ccc2cc(-c3ccccc3)nc(Nc3ccccc3)nc12\n",
      "\n",
      "Example of bad samples:\n",
      "C#CCC(c1ccccc1)c1nc2c1CCCCOC1C2=O\n",
      "Clc1ccc2ccc(CN3CCCC3C(=O)C(=O)NC3)cc12\n",
      "Cc1ccccc1Oc1ccc2ccc([N+](=O)[O-])cc1\n",
      "N#CC1CN(c2ccc(CC(C)C)c3c3cccnc34)C1=O\n",
      "COCC1CCC(c2cc(C(=O)N2CCC3)c2)SC1N(C)C\n",
      "O=c1sc2ccccc2n1-c1cccc2ccc(-c3cnncn33)cc\n",
      "COc1ccccc1N1CCN(c2ccsc2-c2ccccc2)cc1)C(=\n",
      "CCCc1cccc(C)c1-c1sc(Cc2ccccn2)c(=O)c1\n",
      "Cc1c(CCCCN2CCOCC2)cc(SCc2ccccc2-Sn2nccc2\n",
      "Cc1ccc2c(c1)Cc1cccc2[N+](C)CC1CCN(C)CO1\n",
      "~~~~~~~~~~~~~~~~~~~~~~~\n",
      " gen pre-train\n"
     ]
    },
    {
     "name": "stderr",
     "output_type": "stream",
     "text": [
      "\r",
      " 84%|████████▍ | 202/240 [28:02<10:34, 16.70s/it]"
     ]
    },
    {
     "name": "stdout",
     "output_type": "stream",
     "text": [
      " gen pre-train\n"
     ]
    },
    {
     "name": "stderr",
     "output_type": "stream",
     "text": [
      "\r",
      " 85%|████████▍ | 203/240 [28:09<08:34, 13.91s/it]"
     ]
    },
    {
     "name": "stdout",
     "output_type": "stream",
     "text": [
      " gen pre-train\n"
     ]
    },
    {
     "name": "stderr",
     "output_type": "stream",
     "text": [
      "\r",
      " 85%|████████▌ | 204/240 [28:17<07:15, 12.09s/it]"
     ]
    },
    {
     "name": "stdout",
     "output_type": "stream",
     "text": [
      " gen pre-train\n"
     ]
    },
    {
     "name": "stderr",
     "output_type": "stream",
     "text": [
      "\r",
      " 85%|████████▌ | 205/240 [28:25<06:19, 10.85s/it]"
     ]
    },
    {
     "name": "stdout",
     "output_type": "stream",
     "text": [
      " gen pre-train\n"
     ]
    },
    {
     "name": "stderr",
     "output_type": "stream",
     "text": [
      "\r",
      " 86%|████████▌ | 206/240 [28:32<05:33,  9.80s/it]"
     ]
    },
    {
     "name": "stdout",
     "output_type": "stream",
     "text": [
      " gen pre-train\n"
     ]
    },
    {
     "name": "stderr",
     "output_type": "stream",
     "text": [
      "\r",
      " 86%|████████▋ | 207/240 [28:40<05:02,  9.18s/it]"
     ]
    },
    {
     "name": "stdout",
     "output_type": "stream",
     "text": [
      " gen pre-train\n"
     ]
    },
    {
     "name": "stderr",
     "output_type": "stream",
     "text": [
      "\r",
      " 87%|████████▋ | 208/240 [28:47<04:32,  8.51s/it]"
     ]
    },
    {
     "name": "stdout",
     "output_type": "stream",
     "text": [
      " gen pre-train\n"
     ]
    },
    {
     "name": "stderr",
     "output_type": "stream",
     "text": [
      "\r",
      " 87%|████████▋ | 209/240 [28:54<04:07,  7.99s/it]"
     ]
    },
    {
     "name": "stdout",
     "output_type": "stream",
     "text": [
      " gen pre-train\n"
     ]
    },
    {
     "name": "stderr",
     "output_type": "stream",
     "text": [
      "\r",
      " 88%|████████▊ | 210/240 [29:01<03:50,  7.70s/it]"
     ]
    },
    {
     "name": "stdout",
     "output_type": "stream",
     "text": [
      " gen pre-train\n"
     ]
    },
    {
     "name": "stderr",
     "output_type": "stream",
     "text": [
      "\r",
      " 88%|████████▊ | 211/240 [29:08<03:39,  7.58s/it]"
     ]
    },
    {
     "name": "stdout",
     "output_type": "stream",
     "text": [
      " gen pre-train\n"
     ]
    },
    {
     "name": "stderr",
     "output_type": "stream",
     "text": [
      "\r",
      " 88%|████████▊ | 212/240 [29:15<03:32,  7.59s/it]"
     ]
    },
    {
     "name": "stdout",
     "output_type": "stream",
     "text": [
      " gen pre-train\n"
     ]
    },
    {
     "name": "stderr",
     "output_type": "stream",
     "text": [
      "\r",
      " 89%|████████▉ | 213/240 [29:23<03:24,  7.57s/it]"
     ]
    },
    {
     "name": "stdout",
     "output_type": "stream",
     "text": [
      " gen pre-train\n"
     ]
    },
    {
     "name": "stderr",
     "output_type": "stream",
     "text": [
      "\r",
      " 89%|████████▉ | 214/240 [29:31<03:17,  7.58s/it]"
     ]
    },
    {
     "name": "stdout",
     "output_type": "stream",
     "text": [
      " gen pre-train\n"
     ]
    },
    {
     "name": "stderr",
     "output_type": "stream",
     "text": [
      "\r",
      " 90%|████████▉ | 215/240 [29:39<03:18,  7.93s/it]"
     ]
    },
    {
     "name": "stdout",
     "output_type": "stream",
     "text": [
      " gen pre-train\n"
     ]
    },
    {
     "name": "stderr",
     "output_type": "stream",
     "text": [
      "\r",
      " 90%|█████████ | 216/240 [29:48<03:12,  8.02s/it]"
     ]
    },
    {
     "name": "stdout",
     "output_type": "stream",
     "text": [
      " gen pre-train\n"
     ]
    },
    {
     "name": "stderr",
     "output_type": "stream",
     "text": [
      "\r",
      " 90%|█████████ | 217/240 [29:55<03:01,  7.90s/it]"
     ]
    },
    {
     "name": "stdout",
     "output_type": "stream",
     "text": [
      " gen pre-train\n"
     ]
    },
    {
     "name": "stderr",
     "output_type": "stream",
     "text": [
      "\r",
      " 91%|█████████ | 218/240 [30:03<02:53,  7.90s/it]"
     ]
    },
    {
     "name": "stdout",
     "output_type": "stream",
     "text": [
      " gen pre-train\n"
     ]
    },
    {
     "name": "stderr",
     "output_type": "stream",
     "text": [
      "\r",
      " 91%|█████████▏| 219/240 [30:11<02:45,  7.87s/it]"
     ]
    },
    {
     "name": "stdout",
     "output_type": "stream",
     "text": [
      " gen pre-train\n"
     ]
    },
    {
     "name": "stderr",
     "output_type": "stream",
     "text": [
      "\r",
      " 92%|█████████▏| 220/240 [30:18<02:33,  7.69s/it]"
     ]
    },
    {
     "name": "stdout",
     "output_type": "stream",
     "text": [
      " gen pre-train\n"
     ]
    },
    {
     "name": "stderr",
     "output_type": "stream",
     "text": [
      "\r",
      " 92%|█████████▏| 221/240 [30:26<02:24,  7.61s/it]"
     ]
    },
    {
     "name": "stdout",
     "output_type": "stream",
     "text": [
      " gen pre-train\n"
     ]
    },
    {
     "name": "stderr",
     "output_type": "stream",
     "text": [
      "\r",
      " 92%|█████████▎| 222/240 [30:34<02:18,  7.72s/it]"
     ]
    },
    {
     "name": "stdout",
     "output_type": "stream",
     "text": [
      " gen pre-train\n"
     ]
    },
    {
     "name": "stderr",
     "output_type": "stream",
     "text": [
      "\r",
      " 93%|█████████▎| 223/240 [30:43<02:17,  8.10s/it]"
     ]
    },
    {
     "name": "stdout",
     "output_type": "stream",
     "text": [
      " gen pre-train\n"
     ]
    },
    {
     "name": "stderr",
     "output_type": "stream",
     "text": [
      "\r",
      " 93%|█████████▎| 224/240 [30:50<02:06,  7.90s/it]"
     ]
    },
    {
     "name": "stdout",
     "output_type": "stream",
     "text": [
      " gen pre-train\n"
     ]
    },
    {
     "name": "stderr",
     "output_type": "stream",
     "text": [
      "\r",
      " 94%|█████████▍| 225/240 [30:57<01:56,  7.74s/it]"
     ]
    },
    {
     "name": "stdout",
     "output_type": "stream",
     "text": [
      " gen pre-train\n"
     ]
    },
    {
     "name": "stderr",
     "output_type": "stream",
     "text": [
      "\r",
      " 94%|█████████▍| 226/240 [31:05<01:47,  7.64s/it]"
     ]
    },
    {
     "name": "stdout",
     "output_type": "stream",
     "text": [
      " gen pre-train\n"
     ]
    },
    {
     "name": "stderr",
     "output_type": "stream",
     "text": [
      "\r",
      " 95%|█████████▍| 227/240 [31:12<01:39,  7.65s/it]"
     ]
    },
    {
     "name": "stdout",
     "output_type": "stream",
     "text": [
      " gen pre-train\n"
     ]
    },
    {
     "name": "stderr",
     "output_type": "stream",
     "text": [
      "\r",
      " 95%|█████████▌| 228/240 [31:20<01:30,  7.53s/it]"
     ]
    },
    {
     "name": "stdout",
     "output_type": "stream",
     "text": [
      " gen pre-train\n"
     ]
    },
    {
     "name": "stderr",
     "output_type": "stream",
     "text": [
      "\r",
      " 95%|█████████▌| 229/240 [31:27<01:21,  7.45s/it]"
     ]
    },
    {
     "name": "stdout",
     "output_type": "stream",
     "text": [
      " gen pre-train\n"
     ]
    },
    {
     "name": "stderr",
     "output_type": "stream",
     "text": [
      "\r",
      " 96%|█████████▌| 230/240 [31:34<01:13,  7.38s/it]"
     ]
    },
    {
     "name": "stdout",
     "output_type": "stream",
     "text": [
      " gen pre-train\n"
     ]
    },
    {
     "name": "stderr",
     "output_type": "stream",
     "text": [
      "\r",
      " 96%|█████████▋| 231/240 [31:42<01:06,  7.41s/it]"
     ]
    },
    {
     "name": "stdout",
     "output_type": "stream",
     "text": [
      " gen pre-train\n"
     ]
    },
    {
     "name": "stderr",
     "output_type": "stream",
     "text": [
      "\r",
      " 97%|█████████▋| 232/240 [31:50<01:01,  7.68s/it]"
     ]
    },
    {
     "name": "stdout",
     "output_type": "stream",
     "text": [
      " gen pre-train\n"
     ]
    },
    {
     "name": "stderr",
     "output_type": "stream",
     "text": [
      "\r",
      " 97%|█████████▋| 233/240 [31:59<00:55,  7.98s/it]"
     ]
    },
    {
     "name": "stdout",
     "output_type": "stream",
     "text": [
      " gen pre-train\n"
     ]
    },
    {
     "name": "stderr",
     "output_type": "stream",
     "text": [
      "\r",
      " 98%|█████████▊| 234/240 [32:08<00:50,  8.35s/it]"
     ]
    },
    {
     "name": "stdout",
     "output_type": "stream",
     "text": [
      " gen pre-train\n"
     ]
    },
    {
     "name": "stderr",
     "output_type": "stream",
     "text": [
      "\r",
      " 98%|█████████▊| 235/240 [32:17<00:42,  8.47s/it]"
     ]
    },
    {
     "name": "stdout",
     "output_type": "stream",
     "text": [
      " gen pre-train\n"
     ]
    },
    {
     "name": "stderr",
     "output_type": "stream",
     "text": [
      "\r",
      " 98%|█████████▊| 236/240 [32:25<00:33,  8.47s/it]"
     ]
    },
    {
     "name": "stdout",
     "output_type": "stream",
     "text": [
      " gen pre-train\n"
     ]
    },
    {
     "name": "stderr",
     "output_type": "stream",
     "text": [
      "\r",
      " 99%|█████████▉| 237/240 [32:34<00:25,  8.52s/it]"
     ]
    },
    {
     "name": "stdout",
     "output_type": "stream",
     "text": [
      " gen pre-train\n"
     ]
    },
    {
     "name": "stderr",
     "output_type": "stream",
     "text": [
      "\r",
      " 99%|█████████▉| 238/240 [32:42<00:17,  8.56s/it]"
     ]
    },
    {
     "name": "stdout",
     "output_type": "stream",
     "text": [
      " gen pre-train\n"
     ]
    },
    {
     "name": "stderr",
     "output_type": "stream",
     "text": [
      "\r",
      "100%|█████████▉| 239/240 [32:51<00:08,  8.66s/it]"
     ]
    },
    {
     "name": "stdout",
     "output_type": "stream",
     "text": [
      " gen pre-train\n"
     ]
    },
    {
     "name": "stderr",
     "output_type": "stream",
     "text": [
      "100%|██████████| 240/240 [33:00<00:00,  8.25s/it]\n"
     ]
    },
    {
     "name": "stdout",
     "output_type": "stream",
     "text": [
      "Start training discriminator...\n"
     ]
    },
    {
     "name": "stderr",
     "output_type": "stream",
     "text": [
      "\r",
      "  0%|          | 0/50 [00:00<?, ?it/s]"
     ]
    },
    {
     "name": "stdout",
     "output_type": "stream",
     "text": [
      " discriminator pre-train\n"
     ]
    },
    {
     "name": "stderr",
     "output_type": "stream",
     "text": [
      "\r",
      "  2%|▏         | 1/50 [11:35<9:27:47, 695.26s/it]"
     ]
    },
    {
     "name": "stdout",
     "output_type": "stream",
     "text": [
      "\tD loss  :   0.5579088926315308\n",
      "\tAccuracy: 0.9166666865348816\n",
      " discriminator pre-train\n"
     ]
    },
    {
     "name": "stderr",
     "output_type": "stream",
     "text": [
      "\r",
      "  4%|▍         | 2/50 [23:00<9:13:45, 692.19s/it]"
     ]
    },
    {
     "name": "stdout",
     "output_type": "stream",
     "text": [
      "\tD loss  :   0.19869793951511383\n",
      "\tAccuracy: 1.0\n",
      " discriminator pre-train\n"
     ]
    },
    {
     "name": "stderr",
     "output_type": "stream",
     "text": [
      "\r",
      "  6%|▌         | 3/50 [34:52<9:06:50, 698.09s/it]"
     ]
    },
    {
     "name": "stdout",
     "output_type": "stream",
     "text": [
      "\tD loss  :   0.11544875800609589\n",
      "\tAccuracy: 1.0\n",
      " discriminator pre-train\n"
     ]
    },
    {
     "name": "stderr",
     "output_type": "stream",
     "text": [
      "\r",
      "  8%|▊         | 4/50 [45:29<8:41:12, 679.83s/it]"
     ]
    },
    {
     "name": "stdout",
     "output_type": "stream",
     "text": [
      "\tD loss  :   0.10432511568069458\n",
      "\tAccuracy: 1.0\n",
      " discriminator pre-train\n"
     ]
    },
    {
     "name": "stderr",
     "output_type": "stream",
     "text": [
      "\r",
      " 10%|█         | 5/50 [56:02<8:19:15, 665.67s/it]"
     ]
    },
    {
     "name": "stdout",
     "output_type": "stream",
     "text": [
      "\tD loss  :   0.034284498542547226\n",
      "\tAccuracy: 1.0\n",
      " discriminator pre-train\n"
     ]
    },
    {
     "name": "stderr",
     "output_type": "stream",
     "text": [
      "\r",
      " 12%|█▏        | 6/50 [1:07:28<8:12:39, 671.80s/it]"
     ]
    },
    {
     "name": "stdout",
     "output_type": "stream",
     "text": [
      "\tD loss  :   0.14893685281276703\n",
      "\tAccuracy: 0.9166666865348816\n",
      " discriminator pre-train\n"
     ]
    },
    {
     "name": "stderr",
     "output_type": "stream",
     "text": [
      "\r",
      " 14%|█▍        | 7/50 [1:18:54<8:04:40, 676.28s/it]"
     ]
    },
    {
     "name": "stdout",
     "output_type": "stream",
     "text": [
      "\tD loss  :   0.05894181877374649\n",
      "\tAccuracy: 1.0\n",
      " discriminator pre-train\n"
     ]
    },
    {
     "name": "stderr",
     "output_type": "stream",
     "text": [
      "\r",
      " 16%|█▌        | 8/50 [1:30:30<7:57:29, 682.14s/it]"
     ]
    },
    {
     "name": "stdout",
     "output_type": "stream",
     "text": [
      "\tD loss  :   0.06386391818523407\n",
      "\tAccuracy: 1.0\n",
      " discriminator pre-train\n"
     ]
    },
    {
     "name": "stderr",
     "output_type": "stream",
     "text": [
      "\r",
      " 18%|█▊        | 9/50 [1:41:43<7:44:07, 679.20s/it]"
     ]
    },
    {
     "name": "stdout",
     "output_type": "stream",
     "text": [
      "\tD loss  :   0.03941619396209717\n",
      "\tAccuracy: 1.0\n",
      " discriminator pre-train\n"
     ]
    },
    {
     "name": "stderr",
     "output_type": "stream",
     "text": [
      "\r",
      " 20%|██        | 10/50 [1:52:51<7:30:36, 675.92s/it]"
     ]
    },
    {
     "name": "stdout",
     "output_type": "stream",
     "text": [
      "\tD loss  :   0.1776210218667984\n",
      "\tAccuracy: 0.9166666865348816\n",
      " discriminator pre-train\n"
     ]
    },
    {
     "name": "stderr",
     "output_type": "stream",
     "text": [
      "\r",
      " 22%|██▏       | 11/50 [2:03:33<7:12:47, 665.83s/it]"
     ]
    },
    {
     "name": "stdout",
     "output_type": "stream",
     "text": [
      "\tD loss  :   0.021427281200885773\n",
      "\tAccuracy: 1.0\n",
      " discriminator pre-train\n"
     ]
    },
    {
     "name": "stderr",
     "output_type": "stream",
     "text": [
      "\r",
      " 24%|██▍       | 12/50 [2:14:06<6:55:26, 655.96s/it]"
     ]
    },
    {
     "name": "stdout",
     "output_type": "stream",
     "text": [
      "\tD loss  :   0.0757945105433464\n",
      "\tAccuracy: 1.0\n",
      " discriminator pre-train\n"
     ]
    },
    {
     "name": "stderr",
     "output_type": "stream",
     "text": [
      "\r",
      " 26%|██▌       | 13/50 [2:24:46<6:41:32, 651.15s/it]"
     ]
    },
    {
     "name": "stdout",
     "output_type": "stream",
     "text": [
      "\tD loss  :   0.26735249161720276\n",
      "\tAccuracy: 0.9166666865348816\n",
      " discriminator pre-train\n"
     ]
    },
    {
     "name": "stderr",
     "output_type": "stream",
     "text": [
      "\r",
      " 28%|██▊       | 14/50 [2:35:48<6:32:40, 654.46s/it]"
     ]
    },
    {
     "name": "stdout",
     "output_type": "stream",
     "text": [
      "\tD loss  :   0.031705863773822784\n",
      "\tAccuracy: 1.0\n",
      " discriminator pre-train\n"
     ]
    },
    {
     "name": "stderr",
     "output_type": "stream",
     "text": [
      "\r",
      " 30%|███       | 15/50 [2:46:30<6:19:32, 650.64s/it]"
     ]
    },
    {
     "name": "stdout",
     "output_type": "stream",
     "text": [
      "\tD loss  :   0.012545228935778141\n",
      "\tAccuracy: 1.0\n",
      " discriminator pre-train\n"
     ]
    },
    {
     "name": "stderr",
     "output_type": "stream",
     "text": [
      "\r",
      " 32%|███▏      | 16/50 [2:57:18<6:08:17, 649.94s/it]"
     ]
    },
    {
     "name": "stdout",
     "output_type": "stream",
     "text": [
      "\tD loss  :   0.010166645981371403\n",
      "\tAccuracy: 1.0\n",
      " discriminator pre-train\n"
     ]
    },
    {
     "name": "stderr",
     "output_type": "stream",
     "text": [
      "\r",
      " 34%|███▍      | 17/50 [3:08:00<5:56:10, 647.58s/it]"
     ]
    },
    {
     "name": "stdout",
     "output_type": "stream",
     "text": [
      "\tD loss  :   0.06276988238096237\n",
      "\tAccuracy: 1.0\n",
      " discriminator pre-train\n"
     ]
    },
    {
     "name": "stderr",
     "output_type": "stream",
     "text": [
      "\r",
      " 36%|███▌      | 18/50 [3:18:28<5:42:13, 641.66s/it]"
     ]
    },
    {
     "name": "stdout",
     "output_type": "stream",
     "text": [
      "\tD loss  :   0.054688144475221634\n",
      "\tAccuracy: 1.0\n",
      " discriminator pre-train\n"
     ]
    },
    {
     "name": "stderr",
     "output_type": "stream",
     "text": [
      "\r",
      " 38%|███▊      | 19/50 [3:29:15<5:32:20, 643.23s/it]"
     ]
    },
    {
     "name": "stdout",
     "output_type": "stream",
     "text": [
      "\tD loss  :   0.04178440943360329\n",
      "\tAccuracy: 1.0\n",
      " discriminator pre-train\n"
     ]
    },
    {
     "name": "stderr",
     "output_type": "stream",
     "text": [
      "\r",
      " 40%|████      | 20/50 [3:40:41<5:28:04, 656.14s/it]"
     ]
    },
    {
     "name": "stdout",
     "output_type": "stream",
     "text": [
      "\tD loss  :   0.009496546350419521\n",
      "\tAccuracy: 1.0\n",
      " discriminator pre-train\n"
     ]
    },
    {
     "name": "stderr",
     "output_type": "stream",
     "text": [
      "\r",
      " 42%|████▏     | 21/50 [3:51:55<5:19:41, 661.41s/it]"
     ]
    },
    {
     "name": "stdout",
     "output_type": "stream",
     "text": [
      "\tD loss  :   0.008631990291178226\n",
      "\tAccuracy: 1.0\n",
      " discriminator pre-train\n"
     ]
    },
    {
     "name": "stderr",
     "output_type": "stream",
     "text": [
      "\r",
      " 44%|████▍     | 22/50 [4:03:44<5:15:22, 675.79s/it]"
     ]
    },
    {
     "name": "stdout",
     "output_type": "stream",
     "text": [
      "\tD loss  :   0.00656281178817153\n",
      "\tAccuracy: 1.0\n",
      " discriminator pre-train\n"
     ]
    },
    {
     "name": "stderr",
     "output_type": "stream",
     "text": [
      "\r",
      " 46%|████▌     | 23/50 [4:14:38<5:01:07, 669.18s/it]"
     ]
    },
    {
     "name": "stdout",
     "output_type": "stream",
     "text": [
      "\tD loss  :   0.03232034668326378\n",
      "\tAccuracy: 1.0\n",
      " discriminator pre-train\n"
     ]
    },
    {
     "name": "stderr",
     "output_type": "stream",
     "text": [
      "\r",
      " 48%|████▊     | 24/50 [4:25:36<4:48:33, 665.92s/it]"
     ]
    },
    {
     "name": "stdout",
     "output_type": "stream",
     "text": [
      "\tD loss  :   0.005214110482484102\n",
      "\tAccuracy: 1.0\n",
      " discriminator pre-train\n"
     ]
    },
    {
     "name": "stderr",
     "output_type": "stream",
     "text": [
      "\r",
      " 50%|█████     | 25/50 [4:36:28<4:35:43, 661.73s/it]"
     ]
    },
    {
     "name": "stdout",
     "output_type": "stream",
     "text": [
      "\tD loss  :   0.016297148540616035\n",
      "\tAccuracy: 1.0\n",
      " discriminator pre-train\n"
     ]
    },
    {
     "name": "stderr",
     "output_type": "stream",
     "text": [
      "\r",
      " 52%|█████▏    | 26/50 [4:46:56<4:20:38, 651.62s/it]"
     ]
    },
    {
     "name": "stdout",
     "output_type": "stream",
     "text": [
      "\tD loss  :   0.00695421826094389\n",
      "\tAccuracy: 1.0\n",
      " discriminator pre-train\n"
     ]
    },
    {
     "name": "stderr",
     "output_type": "stream",
     "text": [
      "\r",
      " 54%|█████▍    | 27/50 [4:57:06<4:04:58, 639.07s/it]"
     ]
    },
    {
     "name": "stdout",
     "output_type": "stream",
     "text": [
      "\tD loss  :   0.00493272952735424\n",
      "\tAccuracy: 1.0\n",
      " discriminator pre-train\n"
     ]
    },
    {
     "name": "stderr",
     "output_type": "stream",
     "text": [
      "\r",
      " 56%|█████▌    | 28/50 [5:07:28<3:52:29, 634.05s/it]"
     ]
    },
    {
     "name": "stdout",
     "output_type": "stream",
     "text": [
      "\tD loss  :   0.005275927949696779\n",
      "\tAccuracy: 1.0\n",
      " discriminator pre-train\n"
     ]
    },
    {
     "name": "stderr",
     "output_type": "stream",
     "text": [
      "\r",
      " 58%|█████▊    | 29/50 [5:17:40<3:39:31, 627.21s/it]"
     ]
    },
    {
     "name": "stdout",
     "output_type": "stream",
     "text": [
      "\tD loss  :   0.0042720516212284565\n",
      "\tAccuracy: 1.0\n",
      " discriminator pre-train\n"
     ]
    },
    {
     "name": "stderr",
     "output_type": "stream",
     "text": [
      "\r",
      " 60%|██████    | 30/50 [5:28:04<3:28:48, 626.40s/it]"
     ]
    },
    {
     "name": "stdout",
     "output_type": "stream",
     "text": [
      "\tD loss  :   0.0058317361399531364\n",
      "\tAccuracy: 1.0\n",
      " discriminator pre-train\n"
     ]
    },
    {
     "name": "stderr",
     "output_type": "stream",
     "text": [
      "\r",
      " 62%|██████▏   | 31/50 [5:39:18<3:22:53, 640.69s/it]"
     ]
    },
    {
     "name": "stdout",
     "output_type": "stream",
     "text": [
      "\tD loss  :   0.0051890271715819836\n",
      "\tAccuracy: 1.0\n",
      " discriminator pre-train\n"
     ]
    },
    {
     "name": "stderr",
     "output_type": "stream",
     "text": [
      "\r",
      " 64%|██████▍   | 32/50 [5:50:16<3:13:46, 645.93s/it]"
     ]
    },
    {
     "name": "stdout",
     "output_type": "stream",
     "text": [
      "\tD loss  :   0.010987146757543087\n",
      "\tAccuracy: 1.0\n",
      " discriminator pre-train\n"
     ]
    },
    {
     "name": "stderr",
     "output_type": "stream",
     "text": [
      "\r",
      " 66%|██████▌   | 33/50 [6:01:09<3:03:35, 647.97s/it]"
     ]
    },
    {
     "name": "stdout",
     "output_type": "stream",
     "text": [
      "\tD loss  :   0.011421685107052326\n",
      "\tAccuracy: 1.0\n",
      " discriminator pre-train\n"
     ]
    },
    {
     "name": "stderr",
     "output_type": "stream",
     "text": [
      "\r",
      " 68%|██████▊   | 34/50 [6:13:11<2:58:40, 670.04s/it]"
     ]
    },
    {
     "name": "stdout",
     "output_type": "stream",
     "text": [
      "\tD loss  :   0.022244278341531754\n",
      "\tAccuracy: 1.0\n",
      " discriminator pre-train\n"
     ]
    },
    {
     "name": "stderr",
     "output_type": "stream",
     "text": [
      "\r",
      " 70%|███████   | 35/50 [6:24:01<2:46:00, 664.01s/it]"
     ]
    },
    {
     "name": "stdout",
     "output_type": "stream",
     "text": [
      "\tD loss  :   0.1800626963376999\n",
      "\tAccuracy: 0.9166666865348816\n",
      " discriminator pre-train\n"
     ]
    },
    {
     "name": "stderr",
     "output_type": "stream",
     "text": [
      "\r",
      " 72%|███████▏  | 36/50 [6:35:08<2:35:09, 664.93s/it]"
     ]
    },
    {
     "name": "stdout",
     "output_type": "stream",
     "text": [
      "\tD loss  :   0.0036416267976164818\n",
      "\tAccuracy: 1.0\n",
      " discriminator pre-train\n"
     ]
    },
    {
     "name": "stderr",
     "output_type": "stream",
     "text": [
      "\r",
      " 74%|███████▍  | 37/50 [6:46:25<2:24:50, 668.53s/it]"
     ]
    },
    {
     "name": "stdout",
     "output_type": "stream",
     "text": [
      "\tD loss  :   0.09437514841556549\n",
      "\tAccuracy: 0.9166666865348816\n",
      " discriminator pre-train\n"
     ]
    },
    {
     "name": "stderr",
     "output_type": "stream",
     "text": [
      "\r",
      " 76%|███████▌  | 38/50 [6:57:20<2:12:54, 664.53s/it]"
     ]
    },
    {
     "name": "stdout",
     "output_type": "stream",
     "text": [
      "\tD loss  :   0.00951346568763256\n",
      "\tAccuracy: 1.0\n",
      " discriminator pre-train\n"
     ]
    },
    {
     "name": "stderr",
     "output_type": "stream",
     "text": [
      "\r",
      " 78%|███████▊  | 39/50 [7:08:02<2:00:35, 657.77s/it]"
     ]
    },
    {
     "name": "stdout",
     "output_type": "stream",
     "text": [
      "\tD loss  :   0.017744967713952065\n",
      "\tAccuracy: 1.0\n",
      " discriminator pre-train\n"
     ]
    },
    {
     "name": "stderr",
     "output_type": "stream",
     "text": [
      "\r",
      " 80%|████████  | 40/50 [7:19:35<1:51:22, 668.29s/it]"
     ]
    },
    {
     "name": "stdout",
     "output_type": "stream",
     "text": [
      "\tD loss  :   0.030872967094182968\n",
      "\tAccuracy: 1.0\n",
      " discriminator pre-train\n"
     ]
    },
    {
     "name": "stderr",
     "output_type": "stream",
     "text": [
      "\r",
      " 82%|████████▏ | 41/50 [7:31:27<1:42:12, 681.40s/it]"
     ]
    },
    {
     "name": "stdout",
     "output_type": "stream",
     "text": [
      "\tD loss  :   0.0043931398540735245\n",
      "\tAccuracy: 1.0\n",
      " discriminator pre-train\n"
     ]
    },
    {
     "name": "stderr",
     "output_type": "stream",
     "text": [
      "\r",
      " 84%|████████▍ | 42/50 [7:42:55<1:31:08, 683.51s/it]"
     ]
    },
    {
     "name": "stdout",
     "output_type": "stream",
     "text": [
      "\tD loss  :   0.004885445348918438\n",
      "\tAccuracy: 1.0\n",
      " discriminator pre-train\n"
     ]
    },
    {
     "name": "stderr",
     "output_type": "stream",
     "text": [
      "\r",
      " 86%|████████▌ | 43/50 [7:53:59<1:19:02, 677.56s/it]"
     ]
    },
    {
     "name": "stdout",
     "output_type": "stream",
     "text": [
      "\tD loss  :   0.007191146723926067\n",
      "\tAccuracy: 1.0\n",
      " discriminator pre-train\n"
     ]
    },
    {
     "name": "stderr",
     "output_type": "stream",
     "text": [
      "\r",
      " 88%|████████▊ | 44/50 [8:05:48<1:08:42, 687.10s/it]"
     ]
    },
    {
     "name": "stdout",
     "output_type": "stream",
     "text": [
      "\tD loss  :   0.003784711239859462\n",
      "\tAccuracy: 1.0\n",
      " discriminator pre-train\n"
     ]
    },
    {
     "name": "stderr",
     "output_type": "stream",
     "text": [
      "\r",
      " 90%|█████████ | 45/50 [8:17:55<58:15, 699.09s/it]  "
     ]
    },
    {
     "name": "stdout",
     "output_type": "stream",
     "text": [
      "\tD loss  :   0.016114065423607826\n",
      "\tAccuracy: 1.0\n",
      " discriminator pre-train\n"
     ]
    },
    {
     "name": "stderr",
     "output_type": "stream",
     "text": [
      "\r",
      " 92%|█████████▏| 46/50 [8:29:09<46:06, 691.63s/it]"
     ]
    },
    {
     "name": "stdout",
     "output_type": "stream",
     "text": [
      "\tD loss  :   0.00282097514718771\n",
      "\tAccuracy: 1.0\n",
      " discriminator pre-train\n"
     ]
    },
    {
     "name": "stderr",
     "output_type": "stream",
     "text": [
      "\r",
      " 94%|█████████▍| 47/50 [8:39:47<33:46, 675.44s/it]"
     ]
    },
    {
     "name": "stdout",
     "output_type": "stream",
     "text": [
      "\tD loss  :   0.05306633561849594\n",
      "\tAccuracy: 1.0\n",
      " discriminator pre-train\n"
     ]
    },
    {
     "name": "stderr",
     "output_type": "stream",
     "text": [
      "\r",
      " 96%|█████████▌| 48/50 [8:50:45<22:20, 670.12s/it]"
     ]
    },
    {
     "name": "stdout",
     "output_type": "stream",
     "text": [
      "\tD loss  :   0.002991565503180027\n",
      "\tAccuracy: 1.0\n",
      " discriminator pre-train\n"
     ]
    },
    {
     "name": "stderr",
     "output_type": "stream",
     "text": [
      "\r",
      " 98%|█████████▊| 49/50 [9:01:33<11:03, 663.42s/it]"
     ]
    },
    {
     "name": "stdout",
     "output_type": "stream",
     "text": [
      "\tD loss  :   0.015863604843616486\n",
      "\tAccuracy: 1.0\n",
      " discriminator pre-train\n"
     ]
    },
    {
     "name": "stderr",
     "output_type": "stream",
     "text": [
      "100%|██████████| 50/50 [9:12:22<00:00, 662.85s/it]"
     ]
    },
    {
     "name": "stdout",
     "output_type": "stream",
     "text": [
      "\tD loss  :   0.06366373598575592\n",
      "\tAccuracy: 0.9166666865348816\n",
      "Total time was 35125.3888s\n"
     ]
    },
    {
     "name": "stderr",
     "output_type": "stream",
     "text": [
      "\n"
     ]
    },
    {
     "name": "stdout",
     "output_type": "stream",
     "text": [
      "Pretrain finished and saved at checkpoints/textCNN_pretrain\\pretrain_ckpt\n",
      "#########################################################################"
     ]
    },
    {
     "name": "stderr",
     "output_type": "stream",
     "text": [
      "\r",
      "  0%|          | 0/2 [00:00<?, ?it/s]"
     ]
    },
    {
     "name": "stdout",
     "output_type": "stream",
     "text": [
      "\n",
      "Start Reinforcement Training Generator...\n",
      "* Making samples\n",
      "batch_num: 0\n",
      "test_loss: 6.647006034851074\n",
      "best score: 6.647006\n",
      "~~~ Summary Results ~~~\n",
      "Total samples   :  32000\n",
      "Unique          :  31998 (99.99%)\n",
      "Unverified      :  22593 (70.60%)\n",
      "Verified        :   9407 (29.40%)\n",
      "\tmetrics...\n",
      "novelty              : 0.9998\n",
      "hard_novelty         : 0.9997\n",
      "soft_novelty         : 0.9999\n",
      "diversity            : 0.4860\n",
      "conciseness          : 0.9908\n",
      "solubility           : 0.6632\n",
      "naturalness          : 0.5925\n",
      "synthesizability     : 0.5968\n",
      "\n",
      "Example of good samples:\n",
      "CCOC(N)C(=O)C=Cc1sc(=O)c2ccc(C)cc2n1\n",
      "O=C(O)c1ccc2c(c1)CCN(C(C)=O)C(O)C2=O\n",
      "N#Cc1ccc(-c2nnc3nc(C(=O)S)ccc3n2)cc1\n",
      "CCNc1ncn(CCc2ccc3ccc(C(C)C)c(C)c3n2)c1\n",
      "O=C(C=CCc1cccc(F)c1)C(=O)NC1CC(O)COC1\n",
      "CC(=O)Oc1ccc(C=O)cc1NCc1nccnc1c1ccccc1\n",
      "COc1ccc(C(C)c2cccc(C#Cc3ccccc3)c2)cc1\n",
      "NCCC=CCc1cccc(-c2ccccc2-c2ccccc2)n1\n",
      "N#CC(c1ccc(O)cc1)N1CCN(c2ccccc2)CC1\n",
      "CCNC(=O)c1cc(-c2cccnc2)n2cncc2c1OCCN\n",
      "\n",
      "Example of bad samples:\n",
      "COc1ccc2cc(-c3cc(Br)ccc3o3)nc2[nH]1)C1CC\n",
      "CCCCCCC(=CCn1c(SCCCCCCCCOCCCCCCCC)C1(F)O\n",
      "C=CCC(C)(C)C(=O)NC1CCN(c2snc(CC(=O)N)c2O\n",
      "O=C(Nc1nc(-c2cccsc2)nc2c1nc(c1)CCCCC3\n",
      "C(OC(=O)Nc1csc(NC(=O)c3ccccc2O2)c1\n",
      "COc1ccccc1CCn1cnc2cc(-c3cccc3ccccc34)cc2\n",
      "Nc1ncc2c(Nc3ccc(SCN(C)C)cc3)sc2n1C\n",
      "CC1CC1CC(=O)Nc1nc2c(Cl)cccc12)c1ccccc1\n",
      "CCOc1ccc2c(n1)-c1ccccc1Nc1ccc(Cl)c(O)c1\n",
      "C=C1c2ccc(=O)c(-c3ccc(Cl)cc3)cc2)c1\n",
      "~~~~~~~~~~~~~~~~~~~~~~~\n",
      "#########################################################################\n",
      "-> Training generator with RL.\n",
      "G Epoch 0\n",
      "Rewards be like...\n",
      "[[0.066 0.149 0.036 ... 0.    0.    0.   ]\n",
      " [0.105 0.146 0.094 ... 0.    0.    0.   ]\n",
      " [0.096 0.065 0.151 ... 0.004 0.004 0.004]\n",
      " ...\n",
      " [0.176 0.075 0.031 ... 0.341 0.329 0.329]\n",
      " [0.186 0.118 0.086 ... 0.    0.    0.   ]\n",
      " [0.149 0.105 0.158 ... 0.    0.    0.   ]]\n",
      "Mean: 0.117 , Std:  0.114, Min: 0.000 , Max:  0.884\n",
      "\n",
      "neg-loglike: 198.129638671875\n",
      "-> Training Discriminator\n",
      "D_Epoch 0\n",
      "\tD loss  :   0.002684664214029908\n",
      "\tAccuracy: 1.0\n",
      "D_Epoch 1\n",
      "\tD loss  :   0.0031169489957392216\n",
      "\tAccuracy: 1.0\n",
      "results\n"
     ]
    },
    {
     "name": "stderr",
     "output_type": "stream",
     "text": [
      "\r",
      " 50%|█████     | 1/2 [26:18<26:18, 1578.40s/it]"
     ]
    },
    {
     "name": "stdout",
     "output_type": "stream",
     "text": [
      "Model saved at checkpoints\\textCNN\\textCNN_model.ckpt\n",
      "* Making samples\n",
      "batch_num: 1\n",
      "test_loss: 6.468635082244873\n",
      "best score: 6.468635\n",
      "~~~ Summary Results ~~~\n",
      "Total samples   :   6400\n",
      "Unique          :   6400 (100.00%)\n",
      "Unverified      :   5461 (85.33%)\n",
      "Verified        :    939 (14.67%)\n",
      "\tmetrics...\n",
      "novelty              : 1.0000\n",
      "hard_novelty         : 1.0000\n",
      "soft_novelty         : 1.0000\n",
      "diversity            : 0.4698\n",
      "conciseness          : 0.9866\n",
      "solubility           : 0.7098\n",
      "naturalness          : 0.5828\n",
      "synthesizability     : 0.6197\n",
      "\n",
      "Example of good samples:\n",
      "Cc1ccc(F)cc1C(C)c1cccc(C(=O)c2ccccc2)n1\n",
      "Cc1ccc(Cl)cc1OC(=O)c1ccc(C)cc1-c1cnnnc1N\n",
      "COc1ccc(C(=O)Nc2ccc(Br)cc2)c2cc(Cl)ccc12\n",
      "CCNCC=Cc1cc(C(=O)NOCc2ccccc2)cc(Cl)c1OCC\n",
      "CC(=C)C(=O)c1ccc(C(=O)c2ccccc2)cc1CCS\n",
      "COc1ccc2c(c1)c(Nc1ccccc1)c1cnc2cccc(C)c1\n",
      "COc1cccc(C(=O)Nc2ccnc(OCCCc3ccccc3)n2)c1\n",
      "O=C(O)CC(c1ccccc1)c1cccc(-c2ccccc2)c1\n",
      "Oc1nc(SCc2c[nH]c3nc[nH]c3s2)cc2sccc12\n",
      "N#Cc1ccc(CCCCCCCOc2ccc3nc(N)ncn32)cc1Cl\n",
      "\n",
      "Example of bad samples:\n",
      "Fc1ccc(CNCCCCC2CCN(c3ccc(-c4ccccc4)cc3)C\n",
      "COC(=O)N1CCC(c2ccc(OCCOC(C=C)O)c2)cnc1\n",
      "CCCCCCCCOc1ccc(C(O)CN=C(N)NN=Cc2ccccc2)c\n",
      "Cc1cc(CCN2CCOCCC2)nc2ccccc2c1C(=O)CCCCO)\n",
      "Cc1ccc(-c2cnc3c(C)nc4c(c(O)c2n3)CC2)no1\n",
      "O=C1N2Cc3cc4c(cc4c3)-c3cc(F)ccc3c3cc2n1\n",
      "Cc1ccnc(CCCN(CCNC(=O)C(c2ccccc2)c3c2)C1\n",
      "NC(=O)CCCCCCNCCCNCCc1ccccc1Cl)c1onc(CN2C\n",
      "CCCCCC(=O)NCCCCCN(c1ccccc1)c1cccc2ccccc1\n",
      "Cc1ccc(C2CN2CCCCCOc2ccc3ccc(OC)cc32)cc1\n",
      "~~~~~~~~~~~~~~~~~~~~~~~\n",
      "#########################################################################\n",
      "-> Training generator with RL.\n",
      "G Epoch 1\n",
      "Rewards be like...\n",
      "[[0.142 0.    0.125 ... 0.    0.    0.   ]\n",
      " [0.072 0.079 0.091 ... 0.    0.    0.   ]\n",
      " [0.069 0.021 0.021 ... 0.    0.    0.   ]\n",
      " ...\n",
      " [0.021 0.074 0.    ... 0.    0.    0.   ]\n",
      " [0.001 0.101 0.013 ... 0.    0.    0.   ]\n",
      " [0.02  0.088 0.086 ... 0.    0.    0.   ]]\n",
      "Mean: 0.059 , Std:  0.074, Min: 0.000 , Max:  0.562\n",
      "\n",
      "neg-loglike: 103.95160675048828\n",
      "-> Training Discriminator\n",
      "D_Epoch 0\n",
      "\tD loss  :   0.002678533084690571\n",
      "\tAccuracy: 1.0\n",
      "D_Epoch 1\n"
     ]
    },
    {
     "name": "stderr",
     "output_type": "stream",
     "text": [
      "100%|██████████| 2/2 [48:39<00:00, 1459.96s/it]"
     ]
    },
    {
     "name": "stdout",
     "output_type": "stream",
     "text": [
      "\tD loss  :   0.011318154633045197\n",
      "\tAccuracy: 1.0\n",
      "results\n"
     ]
    },
    {
     "name": "stderr",
     "output_type": "stream",
     "text": [
      "\n"
     ]
    },
    {
     "name": "stdout",
     "output_type": "stream",
     "text": [
      "Model saved at checkpoints\\textCNN\\textCNN_model.ckpt\n",
      "\n",
      ":*** FINISHED ***\n"
     ]
    }
   ],
   "source": [
    "from __future__ import absolute_import, division, print_function\n",
    "from builtins import range\n",
    "from collections import OrderedDict\n",
    "import os\n",
    "import model\n",
    "import numpy as np\n",
    "import tensorflow as tf\n",
    "import random\n",
    "import time\n",
    "import json\n",
    "from gen_dataloader import Gen_Data_loader\n",
    "from dis_dataloader import Dis_dataloader\n",
    "from text_classifier import TextCNN\n",
    "from rollout import ROLLOUT\n",
    "from target_lstm import TARGET_LSTM\n",
    "# import io_utils\n",
    "import pandas as pd\n",
    "import mol_metrics\n",
    "import music_metrics\n",
    "import sys\n",
    "from tqdm import tqdm\n",
    "\n",
    "\n",
    "if len(sys.argv) == 2:\n",
    "    PARAM_FILE = sys.argv[1]\n",
    "else:\n",
    "    PARAM_FILE = 'exp.json'\n",
    "params = json.loads(open(PARAM_FILE).read(), object_pairs_hook=OrderedDict)\n",
    "##########################################################################\n",
    "#  Training  Hyper-parameters\n",
    "##########################################################################\n",
    "\n",
    "# Load metrics file\n",
    "if params['METRICS_FILE'] == 'mol_metrics':\n",
    "    mm = mol_metrics\n",
    "elif params['METRICS_FILE'] == 'music_metrics':\n",
    "    mm = music_metrics\n",
    "else:\n",
    "    raise ValueError('Metrics file unknown!')\n",
    "\n",
    "PREFIX = params['EXP_NAME']\n",
    "PRE_EPOCH_NUM = params['G_PRETRAIN_STEPS']\n",
    "TRAIN_ITER = params['G_STEPS']  # generator\n",
    "SEED = params['SEED']\n",
    "BATCH_SIZE = params[\"BATCH_SIZE\"]\n",
    "TOTAL_BATCH = params['TOTAL_BATCH']\n",
    "dis_batch_size = 64\n",
    "dis_num_epochs = 3\n",
    "dis_alter_epoch = params['D_PRETRAIN_STEPS']\n",
    "\n",
    "##########################################################################\n",
    "#  Generator  Hyper-parameters\n",
    "##########################################################################\n",
    "EMB_DIM = 32\n",
    "HIDDEN_DIM = 32\n",
    "START_TOKEN = 0\n",
    "SAMPLE_NUM = 6400\n",
    "BIG_SAMPLE_NUM = SAMPLE_NUM * 5\n",
    "D_WEIGHT = params['D_WEIGHT']\n",
    "\n",
    "D = max(int(5 * D_WEIGHT), 1)\n",
    "##########################################################################\n",
    "\n",
    "\n",
    "##########################################################################\n",
    "#  Discriminator  Hyper-parameters\n",
    "##########################################################################\n",
    "dis_embedding_dim = 64\n",
    "dis_filter_sizes = [1, 2, 3, 4, 5, 6, 7, 8, 9, 10, 15, 20]\n",
    "dis_num_filters = [100, 200, 200, 200, 200, 100, 100, 100, 100, 100, 160, 160]\n",
    "dis_dropout_keep_prob = 0.75\n",
    "dis_l2_reg_lambda = 0.2\n",
    "\n",
    "#============= Objective ==============\n",
    "\n",
    "reward_func = mm.load_reward(params['OBJECTIVE'])\n",
    "\n",
    "\n",
    "def make_reward(train_samples):\n",
    "\n",
    "    def batch_reward(samples):\n",
    "        decoded = [mm.decode(sample, ord_dict) for sample in samples]\n",
    "        pct_unique = len(list(set(decoded))) / float(len(decoded))\n",
    "        rewards = reward_func(decoded, train_samples)\n",
    "        weights = np.array([pct_unique / float(decoded.count(sample))\n",
    "                            for sample in decoded])\n",
    "\n",
    "        return rewards * weights\n",
    "\n",
    "    return batch_reward\n",
    "\n",
    "\n",
    "def print_rewards(rewards):\n",
    "    print('Rewards be like...')\n",
    "    np.set_printoptions(precision=3, suppress=True)\n",
    "    print(rewards)\n",
    "    mean_r, std_r = np.mean(rewards), np.std(rewards)\n",
    "    min_r, max_r = np.min(rewards), np.max(rewards)\n",
    "    print('Mean: {:.3f} , Std:  {:.3f}'.format(mean_r, std_r),end='')\n",
    "    print(', Min: {:.3f} , Max:  {:.3f}\\n'.format(min_r, max_r))\n",
    "    np.set_printoptions(precision=8, suppress=False)\n",
    "    return\n",
    "#=======================================\n",
    "##########################################################################\n",
    "train_samples = mm.load_train_data(params['TRAIN_FILE'])\n",
    "char_dict, ord_dict = mm.build_vocab(train_samples)\n",
    "NUM_EMB = len(char_dict)\n",
    "DATA_LENGTH = max(map(len, train_samples))\n",
    "MAX_LENGTH = params[\"MAX_LENGTH\"]\n",
    "to_use = [sample for sample in train_samples if mm.verified_and_below(\n",
    "    sample, MAX_LENGTH)]\n",
    "positive_samples = [mm.encode(sample, MAX_LENGTH, char_dict)\n",
    "                    for sample in to_use]\n",
    "POSITIVE_NUM = len(positive_samples)\n",
    "print('Starting ObjectiveGAN for {:7s}'.format(PREFIX))\n",
    "print('Data points in train_file {:7d}'.format(len(train_samples)))\n",
    "print('Max data length is        {:7d}'.format(DATA_LENGTH))\n",
    "print('Max length to use is      {:7d}'.format(MAX_LENGTH))\n",
    "print('Avg length to use is      {:7f}'.format(\n",
    "    np.mean([len(s) for s in to_use])))\n",
    "print('Num valid data points is  {:7d}'.format(POSITIVE_NUM))\n",
    "print('Size of alphabet is       {:7d}'.format(NUM_EMB))\n",
    "\n",
    "\n",
    "mm.print_params(params)\n",
    "\n",
    "\n",
    "##########################################################################\n",
    "\n",
    "class Generator(model.LSTM):\n",
    "\n",
    "    def g_optimizer(self, *args, **kwargs):\n",
    "        return tf.train.AdamOptimizer(0.002)  # ignore learning rate\n",
    "\n",
    "\n",
    "def generate_samples(sess, trainable_model, batch_size, generated_num, verbose=False):\n",
    "    #  Generated Samples\n",
    "    generated_samples = []\n",
    "    start = time.time()\n",
    "    for _ in range(int(generated_num / batch_size)):\n",
    "        generated_samples.extend(trainable_model.generate(sess))\n",
    "    end = time.time()\n",
    "    if verbose:\n",
    "        print('Sample generation time: %f' % (end - start))\n",
    "    return generated_samples\n",
    "\n",
    "\n",
    "def target_loss(sess, target_lstm, data_loader):\n",
    "    supervised_g_losses = []\n",
    "    data_loader.reset_pointer()\n",
    "\n",
    "    for it in range(data_loader.num_batch):\n",
    "        batch = data_loader.next_batch()\n",
    "        g_loss = sess.run(target_lstm.pretrain_loss, {target_lstm.x: batch})\n",
    "        supervised_g_losses.append(g_loss)\n",
    "\n",
    "    return np.mean(supervised_g_losses)\n",
    "\n",
    "\n",
    "def pre_train_epoch(sess, trainable_model, data_loader):\n",
    "    supervised_g_losses = []\n",
    "    data_loader.reset_pointer()\n",
    "\n",
    "    for it in range(data_loader.num_batch):\n",
    "        batch = data_loader.next_batch()\n",
    "        _, g_loss, g_pred = trainable_model.pretrain_step(sess, batch)\n",
    "        supervised_g_losses.append(g_loss)\n",
    "\n",
    "    return np.mean(supervised_g_losses)\n",
    "\n",
    "\n",
    "# This is a hack. I don't even use LIkelihood data loader tbh\n",
    "likelihood_data_loader = Gen_Data_loader(BATCH_SIZE)\n",
    "\n",
    "\n",
    "def pretrain(sess, generator, target_lstm, train_discriminator):\n",
    "    # samples = generate_samples(sess, target_lstm, BATCH_SIZE, generated_num)\n",
    "    gen_data_loader = Gen_Data_loader(BATCH_SIZE)\n",
    "    gen_data_loader.create_batches(positive_samples)\n",
    "    results = OrderedDict({'exp_name': PREFIX})\n",
    "\n",
    "    #  pre-train generator\n",
    "    print('Start pre-training...')\n",
    "    start = time.time()\n",
    "    for epoch in tqdm(range(PRE_EPOCH_NUM)):\n",
    "        print(' gen pre-train')\n",
    "        loss = pre_train_epoch(sess, generator, gen_data_loader)\n",
    "        if epoch == 10 or epoch % 40 == 0:\n",
    "            samples = generate_samples(sess, generator, BATCH_SIZE, SAMPLE_NUM)\n",
    "            likelihood_data_loader.create_batches(samples)\n",
    "            test_loss = target_loss(sess, target_lstm, likelihood_data_loader)\n",
    "            print('\\t test_loss {}, train_loss {}'.format(test_loss, loss))\n",
    "            mm.compute_results(samples, train_samples, ord_dict, results)\n",
    "\n",
    "    samples = generate_samples(sess, generator, BATCH_SIZE, SAMPLE_NUM)\n",
    "    likelihood_data_loader.create_batches(samples)\n",
    "    test_loss = target_loss(sess, target_lstm, likelihood_data_loader)\n",
    "\n",
    "    samples = generate_samples(sess, generator, BATCH_SIZE, SAMPLE_NUM)\n",
    "    likelihood_data_loader.create_batches(samples)\n",
    "\n",
    "    print('Start training discriminator...')\n",
    "    for i in tqdm(range(dis_alter_epoch)):\n",
    "        print(' discriminator pre-train')\n",
    "        d_loss, acc = train_discriminator()\n",
    "    end = time.time()\n",
    "    print('Total time was {:.4f}s'.format(end - start))\n",
    "    return\n",
    "\n",
    "\n",
    "def save_results(sess, folder, name, results_rows=None):\n",
    "    if results_rows is not None:\n",
    "        df = pd.DataFrame(results_rows)\n",
    "        df.to_csv('{}_results.csv'.format(folder), index=False)\n",
    "    # save models\n",
    "    model_saver = tf.train.Saver()\n",
    "    ckpt_dir = os.path.join(params['CHK_PATH'], folder)\n",
    "    if not os.path.exists(ckpt_dir):\n",
    "        os.makedirs(ckpt_dir)\n",
    "    ckpt_file = os.path.join(ckpt_dir, '{}.ckpt'.format(name))\n",
    "    path = model_saver.save(sess, ckpt_file)\n",
    "    print('Model saved at {}'.format(path))\n",
    "    return\n",
    "\n",
    "\n",
    "def main():\n",
    "    random.seed(SEED)\n",
    "    np.random.seed(SEED)\n",
    "\n",
    "    # assert START_TOKEN == 0\n",
    "\n",
    "    vocab_size = NUM_EMB\n",
    "    dis_data_loader = Dis_dataloader()\n",
    "\n",
    "    best_score = 1000\n",
    "    generator = Generator(vocab_size, BATCH_SIZE, EMB_DIM,\n",
    "                          HIDDEN_DIM, MAX_LENGTH, START_TOKEN)\n",
    "    target_lstm = TARGET_LSTM(vocab_size, BATCH_SIZE,\n",
    "                              EMB_DIM, HIDDEN_DIM, MAX_LENGTH, 0)\n",
    "\n",
    "    with tf.variable_scope('discriminator'):\n",
    "        cnn = TextCNN(\n",
    "            sequence_length=MAX_LENGTH,\n",
    "            num_classes=2,\n",
    "            vocab_size=vocab_size,\n",
    "            embedding_size=dis_embedding_dim,\n",
    "            filter_sizes=dis_filter_sizes,\n",
    "            num_filters=dis_num_filters,\n",
    "            l2_reg_lambda=dis_l2_reg_lambda)\n",
    "\n",
    "    cnn_params = [param for param in tf.trainable_variables()\n",
    "                  if 'discriminator' in param.name]\n",
    "    # Define Discriminator Training procedure\n",
    "    dis_global_step = tf.Variable(0, name=\"global_step\", trainable=False)\n",
    "    dis_optimizer = tf.train.AdamOptimizer(1e-4)\n",
    "    dis_grads_and_vars = dis_optimizer.compute_gradients(\n",
    "        cnn.loss, cnn_params, aggregation_method=2)\n",
    "    dis_train_op = dis_optimizer.apply_gradients(\n",
    "        dis_grads_and_vars, global_step=dis_global_step)\n",
    "\n",
    "    config = tf.ConfigProto()\n",
    "    # config.gpu_options.per_process_gpu_memory_fraction = 0.5\n",
    "    config.gpu_options.allow_growth = True\n",
    "    sess = tf.Session(config=config)\n",
    "\n",
    "    def train_discriminator():\n",
    "        if D_WEIGHT == 0:\n",
    "            return 0, 0\n",
    "\n",
    "        negative_samples = generate_samples(\n",
    "            sess, generator, BATCH_SIZE, POSITIVE_NUM)\n",
    "\n",
    "        #  train discriminator\n",
    "        dis_x_train, dis_y_train = dis_data_loader.load_train_data(\n",
    "            positive_samples, negative_samples)\n",
    "        dis_batches = dis_data_loader.batch_iter(\n",
    "            zip(dis_x_train, dis_y_train), dis_batch_size, dis_num_epochs\n",
    "        )\n",
    "\n",
    "        for batch in dis_batches:\n",
    "            x_batch, y_batch = zip(*batch)\n",
    "            feed = {\n",
    "                cnn.input_x: x_batch,\n",
    "                cnn.input_y: y_batch,\n",
    "                cnn.dropout_keep_prob: dis_dropout_keep_prob\n",
    "            }\n",
    "            _, step, loss, accuracy = sess.run(\n",
    "                [dis_train_op, dis_global_step, cnn.loss, cnn.accuracy], feed)\n",
    "        print('\\tD loss  :   {}'.format(loss))\n",
    "        print('\\tAccuracy: {}'.format(accuracy))\n",
    "        return loss, accuracy\n",
    "\n",
    "    # Pretrain is checkpointed and only execcutes if we don't find a checkpoint\n",
    "    saver = tf.train.Saver()\n",
    "    ckpt_dir = 'checkpoints/{}_pretrain'.format(PREFIX)\n",
    "    if not os.path.exists(ckpt_dir):\n",
    "        os.makedirs(ckpt_dir)\n",
    "    ckpt_file = os.path.join(ckpt_dir, 'pretrain_ckpt')\n",
    "    if os.path.isfile(ckpt_file + '.meta') and params[\"LOAD_PRETRAIN\"]:\n",
    "        saver.restore(sess, ckpt_file)\n",
    "        print('Pretrain loaded from previous checkpoint {}'.format(ckpt_file))\n",
    "    else:\n",
    "        if params[\"LOAD_PRETRAIN\"]:\n",
    "            print('\\t* No pre-training data found as {:s}.'.format(ckpt_file))\n",
    "        else:\n",
    "            print('\\t* LOAD_PRETRAIN was set to false.')\n",
    "\n",
    "        sess.run(tf.global_variables_initializer())\n",
    "        pretrain(sess, generator, target_lstm, train_discriminator)\n",
    "        path = saver.save(sess, ckpt_file)\n",
    "        print('Pretrain finished and saved at {}'.format(path))\n",
    "\n",
    "    # create reward function\n",
    "    batch_reward = make_reward(train_samples)\n",
    "\n",
    "    rollout = ROLLOUT(generator, 0.8)\n",
    "\n",
    "    print('#########################################################################')\n",
    "    print('Start Reinforcement Training Generator...')\n",
    "    results_rows = []\n",
    "    for nbatch in tqdm(range(TOTAL_BATCH)):\n",
    "        results = OrderedDict({'exp_name': PREFIX})\n",
    "        if nbatch % 1 == 0 or nbatch == TOTAL_BATCH - 1:\n",
    "            print('* Making samples')\n",
    "            if nbatch % 10 == 0:\n",
    "                gen_samples = generate_samples(\n",
    "                    sess, generator, BATCH_SIZE, BIG_SAMPLE_NUM)\n",
    "            else:\n",
    "                gen_samples = generate_samples(\n",
    "                    sess, generator, BATCH_SIZE, SAMPLE_NUM)\n",
    "            likelihood_data_loader.create_batches(gen_samples)\n",
    "            test_loss = target_loss(sess, target_lstm, likelihood_data_loader)\n",
    "            print('batch_num: {}'.format(nbatch))\n",
    "            print('test_loss: {}'.format(test_loss))\n",
    "            results['Batch'] = nbatch\n",
    "            results['test_loss'] = test_loss\n",
    "\n",
    "            if test_loss < best_score:\n",
    "                best_score = test_loss\n",
    "                print('best score: %f' % test_loss)\n",
    "\n",
    "            # results\n",
    "            mm.compute_results(gen_samples, train_samples, ord_dict, results)\n",
    "\n",
    "        print('#########################################################################')\n",
    "        print('-> Training generator with RL.')\n",
    "        print('G Epoch {}'.format(nbatch))\n",
    "\n",
    "        for it in range(TRAIN_ITER):\n",
    "            samples = generator.generate(sess)\n",
    "            rewards = rollout.get_reward(\n",
    "                sess, samples, 16, cnn, batch_reward, D_WEIGHT)\n",
    "            nll = generator.generator_step(sess, samples, rewards)\n",
    "            # results\n",
    "            print_rewards(rewards)\n",
    "            print('neg-loglike: {}'.format(nll))\n",
    "            results['neg-loglike'] = nll\n",
    "        rollout.update_params()\n",
    "\n",
    "        # generate for discriminator\n",
    "        print('-> Training Discriminator')\n",
    "        for i in range(D):\n",
    "            print('D_Epoch {}'.format(i))\n",
    "            d_loss, accuracy = train_discriminator()\n",
    "            results['D_loss_{}'.format(i)] = d_loss\n",
    "            results['Accuracy_{}'.format(i)] = accuracy\n",
    "        print('results')\n",
    "        results_rows.append(results)\n",
    "        if nbatch % params[\"EPOCH_SAVES\"] == 0:\n",
    "            save_results(sess, PREFIX, PREFIX + '_model', results_rows)\n",
    "\n",
    "    # write results\n",
    "    save_results(sess, PREFIX, PREFIX + '_model', results_rows)\n",
    "\n",
    "    print('\\n:*** FINISHED ***')\n",
    "    return\n",
    "\n",
    "if __name__ == '__main__':\n",
    "    main()\n"
   ]
  },
  {
   "cell_type": "code",
   "execution_count": null,
   "metadata": {},
   "outputs": [],
   "source": []
  }
 ],
 "metadata": {
  "kernelspec": {
   "display_name": "Python 3",
   "language": "python",
   "name": "python3"
  },
  "language_info": {
   "codemirror_mode": {
    "name": "ipython",
    "version": 3
   },
   "file_extension": ".py",
   "mimetype": "text/x-python",
   "name": "python",
   "nbconvert_exporter": "python",
   "pygments_lexer": "ipython3",
   "version": "3.6.10"
  }
 },
 "nbformat": 4,
 "nbformat_minor": 4
}
